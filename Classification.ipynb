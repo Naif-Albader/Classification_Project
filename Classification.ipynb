{
  "nbformat": 4,
  "nbformat_minor": 5,
  "metadata": {
    "colab": {
      "name": "Classification.ipynb",
      "provenance": [],
      "collapsed_sections": [
        "Dy2bwUkzkSc3",
        "L2A5hrs94dLs",
        "Y1SwsIPYkVVp"
      ],
      "toc_visible": true,
      "include_colab_link": true
    },
    "kernelspec": {
      "display_name": "Python 3 (ipykernel)",
      "language": "python",
      "name": "python3"
    },
    "language_info": {
      "codemirror_mode": {
        "name": "ipython",
        "version": 3
      },
      "file_extension": ".py",
      "mimetype": "text/x-python",
      "name": "python",
      "nbconvert_exporter": "python",
      "pygments_lexer": "ipython3",
      "version": "3.8.10"
    }
  },
  "cells": [
    {
      "cell_type": "markdown",
      "metadata": {
        "id": "view-in-github",
        "colab_type": "text"
      },
      "source": [
        "<a href=\"https://colab.research.google.com/github/Naif-Albader/Classification_Project/blob/main/Classification.ipynb\" target=\"_parent\"><img src=\"https://colab.research.google.com/assets/colab-badge.svg\" alt=\"Open In Colab\"/></a>"
      ]
    },
    {
      "cell_type": "markdown",
      "metadata": {
        "id": "BPhQy9L-PHV1"
      },
      "source": [
        "# IMPORTS"
      ],
      "id": "BPhQy9L-PHV1"
    },
    {
      "cell_type": "markdown",
      "metadata": {
        "id": "4-nlviB4PKVy"
      },
      "source": [
        ""
      ],
      "id": "4-nlviB4PKVy"
    },
    {
      "cell_type": "code",
      "metadata": {
        "id": "bbc70b4b",
        "colab": {
          "base_uri": "https://localhost:8080/",
          "height": 375
        },
        "outputId": "2b3aedf2-8e14-4cc6-f2fc-50c2118e08eb"
      },
      "source": [
        "import requests\n",
        "from bs4 import BeautifulSoup\n",
        "import json\n",
        "# from selenium import webdriver\n",
        "# from selenium.webdriver.common.keys import Keys\n",
        "import time\n",
        "import timeit\n",
        "import numpy as np\n",
        "import pandas as pd\n",
        "import csv\n",
        "import seaborn as sns\n",
        "import re,string,unicodedata\n",
        "\n",
        "import nltk\n",
        "from sklearn.feature_extraction.text import CountVectorizer\n",
        "from nltk.corpus import stopwords\n",
        "from wordcloud import WordCloud,STOPWORDS\n",
        "from nltk.stem import WordNetLemmatizer\n",
        "import tensorflow as tf\n",
        "from sklearn.model_selection import train_test_split\n",
        "from sklearn.preprocessing import LabelEncoder\n",
        "from tensorflow import keras\n",
        "\n",
        "\n",
        "\n",
        "from wordcloud import WordCloud,STOPWORDS\n",
        "from keras.callbacks import EarlyStopping,ModelCheckpoint\n",
        "from tensorflow.keras.utils import to_categorical\n",
        "from keras.preprocessing.text import Tokenizer\n",
        "from keras.preprocessing.sequence import pad_sequences\n",
        "from keras.layers import Embedding,Conv1D,LSTM,GRU,BatchNormalization,Flatten,Dense\n",
        "import matplotlib.pyplot as plt\n",
        "\n",
        "\n",
        "\n"
      ],
      "id": "bbc70b4b",
      "execution_count": 1,
      "outputs": [
        {
          "output_type": "error",
          "ename": "KeyboardInterrupt",
          "evalue": "ignored",
          "traceback": [
            "\u001b[0;31m---------------------------------------------------------------------------\u001b[0m",
            "\u001b[0;31mKeyboardInterrupt\u001b[0m                         Traceback (most recent call last)",
            "\u001b[0;32m<ipython-input-1-349b3dd710c2>\u001b[0m in \u001b[0;36m<module>\u001b[0;34m()\u001b[0m\n\u001b[1;32m     17\u001b[0m \u001b[0;32mfrom\u001b[0m \u001b[0mwordcloud\u001b[0m \u001b[0;32mimport\u001b[0m \u001b[0mWordCloud\u001b[0m\u001b[0;34m,\u001b[0m\u001b[0mSTOPWORDS\u001b[0m\u001b[0;34m\u001b[0m\u001b[0;34m\u001b[0m\u001b[0m\n\u001b[1;32m     18\u001b[0m \u001b[0;32mfrom\u001b[0m \u001b[0mnltk\u001b[0m\u001b[0;34m.\u001b[0m\u001b[0mstem\u001b[0m \u001b[0;32mimport\u001b[0m \u001b[0mWordNetLemmatizer\u001b[0m\u001b[0;34m\u001b[0m\u001b[0;34m\u001b[0m\u001b[0m\n\u001b[0;32m---> 19\u001b[0;31m \u001b[0;32mimport\u001b[0m \u001b[0mtensorflow\u001b[0m \u001b[0;32mas\u001b[0m \u001b[0mtf\u001b[0m\u001b[0;34m\u001b[0m\u001b[0;34m\u001b[0m\u001b[0m\n\u001b[0m\u001b[1;32m     20\u001b[0m \u001b[0;32mfrom\u001b[0m \u001b[0msklearn\u001b[0m\u001b[0;34m.\u001b[0m\u001b[0mmodel_selection\u001b[0m \u001b[0;32mimport\u001b[0m \u001b[0mtrain_test_split\u001b[0m\u001b[0;34m\u001b[0m\u001b[0;34m\u001b[0m\u001b[0m\n\u001b[1;32m     21\u001b[0m \u001b[0;32mfrom\u001b[0m \u001b[0msklearn\u001b[0m\u001b[0;34m.\u001b[0m\u001b[0mpreprocessing\u001b[0m \u001b[0;32mimport\u001b[0m \u001b[0mLabelEncoder\u001b[0m\u001b[0;34m\u001b[0m\u001b[0;34m\u001b[0m\u001b[0m\n",
            "\u001b[0;32m/usr/local/lib/python3.7/dist-packages/tensorflow/__init__.py\u001b[0m in \u001b[0;36m<module>\u001b[0;34m()\u001b[0m\n\u001b[1;32m     39\u001b[0m \u001b[0;32mimport\u001b[0m \u001b[0msys\u001b[0m \u001b[0;32mas\u001b[0m \u001b[0m_sys\u001b[0m\u001b[0;34m\u001b[0m\u001b[0;34m\u001b[0m\u001b[0m\n\u001b[1;32m     40\u001b[0m \u001b[0;34m\u001b[0m\u001b[0m\n\u001b[0;32m---> 41\u001b[0;31m \u001b[0;32mfrom\u001b[0m \u001b[0mtensorflow\u001b[0m\u001b[0;34m.\u001b[0m\u001b[0mpython\u001b[0m\u001b[0;34m.\u001b[0m\u001b[0mtools\u001b[0m \u001b[0;32mimport\u001b[0m \u001b[0mmodule_util\u001b[0m \u001b[0;32mas\u001b[0m \u001b[0m_module_util\u001b[0m\u001b[0;34m\u001b[0m\u001b[0;34m\u001b[0m\u001b[0m\n\u001b[0m\u001b[1;32m     42\u001b[0m \u001b[0;32mfrom\u001b[0m \u001b[0mtensorflow\u001b[0m\u001b[0;34m.\u001b[0m\u001b[0mpython\u001b[0m\u001b[0;34m.\u001b[0m\u001b[0mutil\u001b[0m\u001b[0;34m.\u001b[0m\u001b[0mlazy_loader\u001b[0m \u001b[0;32mimport\u001b[0m \u001b[0mLazyLoader\u001b[0m \u001b[0;32mas\u001b[0m \u001b[0m_LazyLoader\u001b[0m\u001b[0;34m\u001b[0m\u001b[0;34m\u001b[0m\u001b[0m\n\u001b[1;32m     43\u001b[0m \u001b[0;34m\u001b[0m\u001b[0m\n",
            "\u001b[0;32m/usr/local/lib/python3.7/dist-packages/tensorflow/python/__init__.py\u001b[0m in \u001b[0;36m<module>\u001b[0;34m()\u001b[0m\n\u001b[1;32m     38\u001b[0m \u001b[0;31m# pylint: disable=wildcard-import,g-bad-import-order,g-import-not-at-top\u001b[0m\u001b[0;34m\u001b[0m\u001b[0;34m\u001b[0m\u001b[0;34m\u001b[0m\u001b[0m\n\u001b[1;32m     39\u001b[0m \u001b[0;34m\u001b[0m\u001b[0m\n\u001b[0;32m---> 40\u001b[0;31m \u001b[0;32mfrom\u001b[0m \u001b[0mtensorflow\u001b[0m\u001b[0;34m.\u001b[0m\u001b[0mpython\u001b[0m\u001b[0;34m.\u001b[0m\u001b[0meager\u001b[0m \u001b[0;32mimport\u001b[0m \u001b[0mcontext\u001b[0m\u001b[0;34m\u001b[0m\u001b[0;34m\u001b[0m\u001b[0m\n\u001b[0m\u001b[1;32m     41\u001b[0m \u001b[0;32mfrom\u001b[0m \u001b[0mtensorflow\u001b[0m\u001b[0;34m.\u001b[0m\u001b[0mpython\u001b[0m \u001b[0;32mimport\u001b[0m \u001b[0mpywrap_tensorflow\u001b[0m \u001b[0;32mas\u001b[0m \u001b[0m_pywrap_tensorflow\u001b[0m\u001b[0;34m\u001b[0m\u001b[0;34m\u001b[0m\u001b[0m\n\u001b[1;32m     42\u001b[0m \u001b[0;34m\u001b[0m\u001b[0m\n",
            "\u001b[0;32m/usr/local/lib/python3.7/dist-packages/tensorflow/python/eager/context.py\u001b[0m in \u001b[0;36m<module>\u001b[0;34m()\u001b[0m\n\u001b[1;32m     33\u001b[0m \u001b[0;32mfrom\u001b[0m \u001b[0mtensorflow\u001b[0m\u001b[0;34m.\u001b[0m\u001b[0mcore\u001b[0m\u001b[0;34m.\u001b[0m\u001b[0mprotobuf\u001b[0m \u001b[0;32mimport\u001b[0m \u001b[0mconfig_pb2\u001b[0m\u001b[0;34m\u001b[0m\u001b[0;34m\u001b[0m\u001b[0m\n\u001b[1;32m     34\u001b[0m \u001b[0;32mfrom\u001b[0m \u001b[0mtensorflow\u001b[0m\u001b[0;34m.\u001b[0m\u001b[0mcore\u001b[0m\u001b[0;34m.\u001b[0m\u001b[0mprotobuf\u001b[0m \u001b[0;32mimport\u001b[0m \u001b[0mrewriter_config_pb2\u001b[0m\u001b[0;34m\u001b[0m\u001b[0;34m\u001b[0m\u001b[0m\n\u001b[0;32m---> 35\u001b[0;31m \u001b[0;32mfrom\u001b[0m \u001b[0mtensorflow\u001b[0m\u001b[0;34m.\u001b[0m\u001b[0mpython\u001b[0m \u001b[0;32mimport\u001b[0m \u001b[0mpywrap_tfe\u001b[0m\u001b[0;34m\u001b[0m\u001b[0;34m\u001b[0m\u001b[0m\n\u001b[0m\u001b[1;32m     36\u001b[0m \u001b[0;32mfrom\u001b[0m \u001b[0mtensorflow\u001b[0m\u001b[0;34m.\u001b[0m\u001b[0mpython\u001b[0m \u001b[0;32mimport\u001b[0m \u001b[0mtf2\u001b[0m\u001b[0;34m\u001b[0m\u001b[0;34m\u001b[0m\u001b[0m\n\u001b[1;32m     37\u001b[0m \u001b[0;32mfrom\u001b[0m \u001b[0mtensorflow\u001b[0m\u001b[0;34m.\u001b[0m\u001b[0mpython\u001b[0m\u001b[0;34m.\u001b[0m\u001b[0mclient\u001b[0m \u001b[0;32mimport\u001b[0m \u001b[0mpywrap_tf_session\u001b[0m\u001b[0;34m\u001b[0m\u001b[0;34m\u001b[0m\u001b[0m\n",
            "\u001b[0;32m/usr/local/lib/python3.7/dist-packages/tensorflow/python/pywrap_tfe.py\u001b[0m in \u001b[0;36m<module>\u001b[0;34m()\u001b[0m\n\u001b[1;32m     26\u001b[0m \u001b[0;34m\u001b[0m\u001b[0m\n\u001b[1;32m     27\u001b[0m \u001b[0;31m# pylint: disable=invalid-import-order,g-bad-import-order, wildcard-import, unused-import\u001b[0m\u001b[0;34m\u001b[0m\u001b[0;34m\u001b[0m\u001b[0;34m\u001b[0m\u001b[0m\n\u001b[0;32m---> 28\u001b[0;31m \u001b[0;32mfrom\u001b[0m \u001b[0mtensorflow\u001b[0m\u001b[0;34m.\u001b[0m\u001b[0mpython\u001b[0m \u001b[0;32mimport\u001b[0m \u001b[0mpywrap_tensorflow\u001b[0m\u001b[0;34m\u001b[0m\u001b[0;34m\u001b[0m\u001b[0m\n\u001b[0m\u001b[1;32m     29\u001b[0m \u001b[0;32mfrom\u001b[0m \u001b[0mtensorflow\u001b[0m\u001b[0;34m.\u001b[0m\u001b[0mpython\u001b[0m\u001b[0;34m.\u001b[0m\u001b[0m_pywrap_tfe\u001b[0m \u001b[0;32mimport\u001b[0m \u001b[0;34m*\u001b[0m\u001b[0;34m\u001b[0m\u001b[0;34m\u001b[0m\u001b[0m\n",
            "\u001b[0;32m/usr/local/lib/python3.7/dist-packages/tensorflow/python/pywrap_tensorflow.py\u001b[0m in \u001b[0;36m<module>\u001b[0;34m()\u001b[0m\n\u001b[1;32m     62\u001b[0m   \u001b[0;31m# pylint: disable=wildcard-import,g-import-not-at-top,line-too-long,undefined-variable\u001b[0m\u001b[0;34m\u001b[0m\u001b[0;34m\u001b[0m\u001b[0;34m\u001b[0m\u001b[0m\n\u001b[1;32m     63\u001b[0m   \u001b[0;32mtry\u001b[0m\u001b[0;34m:\u001b[0m\u001b[0;34m\u001b[0m\u001b[0;34m\u001b[0m\u001b[0m\n\u001b[0;32m---> 64\u001b[0;31m     \u001b[0;32mfrom\u001b[0m \u001b[0mtensorflow\u001b[0m\u001b[0;34m.\u001b[0m\u001b[0mpython\u001b[0m\u001b[0;34m.\u001b[0m\u001b[0m_pywrap_tensorflow_internal\u001b[0m \u001b[0;32mimport\u001b[0m \u001b[0;34m*\u001b[0m\u001b[0;34m\u001b[0m\u001b[0;34m\u001b[0m\u001b[0m\n\u001b[0m\u001b[1;32m     65\u001b[0m   \u001b[0;31m# This try catch logic is because there is no bazel equivalent for py_extension.\u001b[0m\u001b[0;34m\u001b[0m\u001b[0;34m\u001b[0m\u001b[0;34m\u001b[0m\u001b[0m\n\u001b[1;32m     66\u001b[0m   \u001b[0;31m# Externally in opensource we must enable exceptions to load the shared object\u001b[0m\u001b[0;34m\u001b[0m\u001b[0;34m\u001b[0m\u001b[0;34m\u001b[0m\u001b[0m\n",
            "\u001b[0;31mKeyboardInterrupt\u001b[0m: "
          ]
        }
      ]
    },
    {
      "cell_type": "markdown",
      "metadata": {
        "id": "c7079b49"
      },
      "source": [
        "# Data Gathering & Scarping"
      ],
      "id": "c7079b49"
    },
    {
      "cell_type": "code",
      "metadata": {
        "id": "93ff30a5"
      },
      "source": [
        "def clean_num(s):\n",
        "    return \"\".join(re.findall('\\d*\\.?\\d+',s))\n",
        "\n",
        "def get_data(block, tag, class_text):\n",
        "    try:\n",
        "        return block.find(tag, class_ = class_text).text\n",
        "    except AttributeError:\n",
        "        return \"\"\n",
        "    return"
      ],
      "id": "93ff30a5",
      "execution_count": null,
      "outputs": []
    },
    {
      "cell_type": "code",
      "metadata": {
        "colab": {
          "base_uri": "https://localhost:8080/",
          "height": 236
        },
        "id": "bdb3c41a",
        "outputId": "ae63e6aa-ac07-4ce6-c7d9-b891186095ba"
      },
      "source": [
        "url = \"https://www.imdb.com/title/tt0468569/reviews?ref_=tt_ql_3\"\n",
        "url2 = \"https://www.imdb.com/title/tt6027920/reviews?ref_=tt_ql_3\"\n",
        "response = requests.get(url)\n",
        "response.status_code\n",
        "driver = webdriver.Chrome('/Applications/chromedriver')\n",
        "driver.get(url2)\n",
        "for i in range(4000): #scroll 3000 times\n",
        "    driver.find_element_by_class_name('ipl-load-more__button').click()\n",
        "    time.sleep(3)\n"
      ],
      "id": "bdb3c41a",
      "execution_count": null,
      "outputs": [
        {
          "ename": "NameError",
          "evalue": "ignored",
          "output_type": "error",
          "traceback": [
            "\u001b[0;31m---------------------------------------------------------------------------\u001b[0m",
            "\u001b[0;31mNameError\u001b[0m                                 Traceback (most recent call last)",
            "\u001b[0;32m<ipython-input-111-6225bba185cf>\u001b[0m in \u001b[0;36m<module>\u001b[0;34m()\u001b[0m\n\u001b[1;32m      3\u001b[0m \u001b[0mresponse\u001b[0m \u001b[0;34m=\u001b[0m \u001b[0mrequests\u001b[0m\u001b[0;34m.\u001b[0m\u001b[0mget\u001b[0m\u001b[0;34m(\u001b[0m\u001b[0murl\u001b[0m\u001b[0;34m)\u001b[0m\u001b[0;34m\u001b[0m\u001b[0;34m\u001b[0m\u001b[0m\n\u001b[1;32m      4\u001b[0m \u001b[0mresponse\u001b[0m\u001b[0;34m.\u001b[0m\u001b[0mstatus_code\u001b[0m\u001b[0;34m\u001b[0m\u001b[0;34m\u001b[0m\u001b[0m\n\u001b[0;32m----> 5\u001b[0;31m \u001b[0mdriver\u001b[0m \u001b[0;34m=\u001b[0m \u001b[0mwebdriver\u001b[0m\u001b[0;34m.\u001b[0m\u001b[0mChrome\u001b[0m\u001b[0;34m(\u001b[0m\u001b[0;34m'/Applications/chromedriver'\u001b[0m\u001b[0;34m)\u001b[0m\u001b[0;34m\u001b[0m\u001b[0;34m\u001b[0m\u001b[0m\n\u001b[0m\u001b[1;32m      6\u001b[0m \u001b[0mdriver\u001b[0m\u001b[0;34m.\u001b[0m\u001b[0mget\u001b[0m\u001b[0;34m(\u001b[0m\u001b[0murl2\u001b[0m\u001b[0;34m)\u001b[0m\u001b[0;34m\u001b[0m\u001b[0;34m\u001b[0m\u001b[0m\n\u001b[1;32m      7\u001b[0m \u001b[0;32mfor\u001b[0m \u001b[0mi\u001b[0m \u001b[0;32min\u001b[0m \u001b[0mrange\u001b[0m\u001b[0;34m(\u001b[0m\u001b[0;36m4000\u001b[0m\u001b[0;34m)\u001b[0m\u001b[0;34m:\u001b[0m \u001b[0;31m#scroll 3000 times\u001b[0m\u001b[0;34m\u001b[0m\u001b[0;34m\u001b[0m\u001b[0m\n",
            "\u001b[0;31mNameError\u001b[0m: name 'webdriver' is not defined"
          ]
        }
      ]
    },
    {
      "cell_type": "code",
      "metadata": {
        "id": "7156face"
      },
      "source": [
        "page = driver.page_source\n",
        "soup = BeautifulSoup(page, 'lxml')"
      ],
      "id": "7156face",
      "execution_count": null,
      "outputs": []
    },
    {
      "cell_type": "code",
      "metadata": {
        "id": "92b40c6d"
      },
      "source": [
        "reviews_list = []\n",
        "for i in (soup.find_all(\"div\", class_ = \"lister-item-content\")):\n",
        "    reviews =  str.strip(get_data(i, \"div\", \"text show-more__control\"))\n",
        "    rating =  str.strip(get_data(i, \"span\", \"rating-other-user-rating\"))\n",
        "    rating = rating.split(sep='/')[0]\n",
        "    date = str.strip(get_data(i, \"span\", \"review-date\"))\n",
        "    \n",
        "    x =get_data(i, \"div\", \"actions text-muted\")\n",
        "    x = x.replace(',',\"\")\n",
        "    like = [int(s) for s in x.split() if s.isdigit()]\n",
        "    \n",
        "    if(like):\n",
        "         like = [int(s) for s in x.split() if s.isdigit()][0]\n",
        "            \n",
        "    dislike = [int(s) for s in x.split() if s.isdigit()]\n",
        "    \n",
        "    \n",
        "    if(dislike):\n",
        "         dislike = [int(s) for s in x.split() if s.isdigit()][1]\n",
        "        \n",
        "    \n",
        "    \n",
        "    \n",
        "\n",
        "    \n",
        "    headers = ['Review_text', 'Rating','date','like','dislike']\n",
        "    rev_dict = dict(zip(headers, [ reviews,\n",
        "                                    rating,date,like,dislike]))\n",
        "    reviews_list.append(rev_dict)\n",
        "\n",
        "df = pd.DataFrame(reviews_list).replace(\"\",np.nan)  #convert list of dict to df\n",
        "df"
      ],
      "id": "92b40c6d",
      "execution_count": null,
      "outputs": []
    },
    {
      "cell_type": "code",
      "metadata": {
        "id": "2afb41d2"
      },
      "source": [
        "df = df[~df.Rating.isna()]"
      ],
      "id": "2afb41d2",
      "execution_count": null,
      "outputs": []
    },
    {
      "cell_type": "code",
      "metadata": {
        "id": "54fbc0ca"
      },
      "source": [
        "df['Rating'] = df.Rating.astype(int)"
      ],
      "id": "54fbc0ca",
      "execution_count": null,
      "outputs": []
    },
    {
      "cell_type": "code",
      "metadata": {
        "id": "eac9f16a"
      },
      "source": [
        "clean_df = df[~df.Review_text.isna()]"
      ],
      "id": "eac9f16a",
      "execution_count": null,
      "outputs": []
    },
    {
      "cell_type": "code",
      "metadata": {
        "id": "c7fd3bed"
      },
      "source": [
        "# clean_df.to_pickle(\"clean_df_1st.pkl\")\n",
        "clean_df.to_pickle(\"clean_df_2st.pkl\")"
      ],
      "id": "c7fd3bed",
      "execution_count": null,
      "outputs": []
    },
    {
      "cell_type": "code",
      "metadata": {
        "id": "d3dce321"
      },
      "source": [
        "df = pd.read_pickle(\"clean_df_1st.pkl\")"
      ],
      "id": "d3dce321",
      "execution_count": null,
      "outputs": []
    },
    {
      "cell_type": "markdown",
      "metadata": {
        "id": "a4cc5a12"
      },
      "source": [
        "# Cleaning & feature engineering & EDA "
      ],
      "id": "a4cc5a12"
    },
    {
      "cell_type": "code",
      "metadata": {
        "colab": {
          "base_uri": "https://localhost:8080/"
        },
        "id": "jokF66iZArPR",
        "outputId": "d3d4fab9-c9fc-4525-8c9c-a17b13b7a00f"
      },
      "source": [
        "from google.colab import drive\n",
        "drive.mount('/content/drive')"
      ],
      "id": "jokF66iZArPR",
      "execution_count": null,
      "outputs": [
        {
          "name": "stdout",
          "output_type": "stream",
          "text": [
            "Mounted at /content/drive\n"
          ]
        }
      ]
    },
    {
      "cell_type": "code",
      "metadata": {
        "id": "e2e8a17d"
      },
      "source": [
        "# put your you path\n",
        "df = pd.read_csv('/content/drive/MyDrive/Colab Notebooks/pickles/1.csv')\n",
        "df2 = pd.read_csv('/content/drive/MyDrive/Colab Notebooks/pickles/2.csv')\n",
        "dfs = [df,df2]"
      ],
      "id": "e2e8a17d",
      "execution_count": null,
      "outputs": []
    },
    {
      "cell_type": "code",
      "metadata": {
        "id": "442a6ee7"
      },
      "source": [
        "df = pd.concat(dfs)"
      ],
      "id": "442a6ee7",
      "execution_count": null,
      "outputs": []
    },
    {
      "cell_type": "code",
      "metadata": {
        "colab": {
          "base_uri": "https://localhost:8080/"
        },
        "id": "c98ede0c",
        "outputId": "5215e4b0-c283-4f3a-e9aa-4e7303fdfc8f"
      },
      "source": [
        "df.isnull().sum()"
      ],
      "id": "c98ede0c",
      "execution_count": null,
      "outputs": [
        {
          "data": {
            "text/plain": [
              "Unnamed: 0     0\n",
              "Review_text    0\n",
              "Rating         0\n",
              "date           0\n",
              "like           0\n",
              "dislike        0\n",
              "dtype: int64"
            ]
          },
          "execution_count": 6,
          "metadata": {},
          "output_type": "execute_result"
        }
      ]
    },
    {
      "cell_type": "code",
      "metadata": {
        "colab": {
          "base_uri": "https://localhost:8080/",
          "height": 408
        },
        "id": "6ee83ba4",
        "outputId": "0b7408c7-dea9-408c-e512-f8c4876a7927"
      },
      "source": [
        "df"
      ],
      "id": "6ee83ba4",
      "execution_count": null,
      "outputs": [
        {
          "data": {
            "text/html": [
              "<div>\n",
              "<style scoped>\n",
              "    .dataframe tbody tr th:only-of-type {\n",
              "        vertical-align: middle;\n",
              "    }\n",
              "\n",
              "    .dataframe tbody tr th {\n",
              "        vertical-align: top;\n",
              "    }\n",
              "\n",
              "    .dataframe thead th {\n",
              "        text-align: right;\n",
              "    }\n",
              "</style>\n",
              "<table border=\"1\" class=\"dataframe\">\n",
              "  <thead>\n",
              "    <tr style=\"text-align: right;\">\n",
              "      <th></th>\n",
              "      <th>Unnamed: 0</th>\n",
              "      <th>Review_text</th>\n",
              "      <th>Rating</th>\n",
              "      <th>date</th>\n",
              "      <th>like</th>\n",
              "      <th>dislike</th>\n",
              "    </tr>\n",
              "  </thead>\n",
              "  <tbody>\n",
              "    <tr>\n",
              "      <th>0</th>\n",
              "      <td>0</td>\n",
              "      <td>Best movie ever. Heath ledger's work is phenom...</td>\n",
              "      <td>10</td>\n",
              "      <td>12 January 2021</td>\n",
              "      <td>153</td>\n",
              "      <td>165</td>\n",
              "    </tr>\n",
              "    <tr>\n",
              "      <th>1</th>\n",
              "      <td>1</td>\n",
              "      <td>Totally one of the greatest movie titles ever ...</td>\n",
              "      <td>10</td>\n",
              "      <td>9 January 2021</td>\n",
              "      <td>132</td>\n",
              "      <td>145</td>\n",
              "    </tr>\n",
              "    <tr>\n",
              "      <th>2</th>\n",
              "      <td>2</td>\n",
              "      <td>It is just what you want for the best movie. G...</td>\n",
              "      <td>10</td>\n",
              "      <td>7 October 2019</td>\n",
              "      <td>235</td>\n",
              "      <td>274</td>\n",
              "    </tr>\n",
              "    <tr>\n",
              "      <th>3</th>\n",
              "      <td>3</td>\n",
              "      <td>Confidently directed, dark, brooding, and pack...</td>\n",
              "      <td>10</td>\n",
              "      <td>12 February 2020</td>\n",
              "      <td>465</td>\n",
              "      <td>557</td>\n",
              "    </tr>\n",
              "    <tr>\n",
              "      <th>4</th>\n",
              "      <td>4</td>\n",
              "      <td>I got to see The Dark Knight on Wednesday nigh...</td>\n",
              "      <td>10</td>\n",
              "      <td>20 July 2008</td>\n",
              "      <td>965</td>\n",
              "      <td>1171</td>\n",
              "    </tr>\n",
              "    <tr>\n",
              "      <th>...</th>\n",
              "      <td>...</td>\n",
              "      <td>...</td>\n",
              "      <td>...</td>\n",
              "      <td>...</td>\n",
              "      <td>...</td>\n",
              "      <td>...</td>\n",
              "    </tr>\n",
              "    <tr>\n",
              "      <th>7104</th>\n",
              "      <td>7533</td>\n",
              "      <td>:p We all deserve better. Maybe try enjoying t...</td>\n",
              "      <td>7</td>\n",
              "      <td>20 May 2019</td>\n",
              "      <td>0</td>\n",
              "      <td>6</td>\n",
              "    </tr>\n",
              "    <tr>\n",
              "      <th>7105</th>\n",
              "      <td>7534</td>\n",
              "      <td>You ruined the show!\\nit was rediculous and i ...</td>\n",
              "      <td>4</td>\n",
              "      <td>20 May 2019</td>\n",
              "      <td>0</td>\n",
              "      <td>4</td>\n",
              "    </tr>\n",
              "    <tr>\n",
              "      <th>7106</th>\n",
              "      <td>7535</td>\n",
              "      <td>I didn't find the episode 1/10 like some of th...</td>\n",
              "      <td>5</td>\n",
              "      <td>20 May 2019</td>\n",
              "      <td>0</td>\n",
              "      <td>2</td>\n",
              "    </tr>\n",
              "    <tr>\n",
              "      <th>7107</th>\n",
              "      <td>7536</td>\n",
              "      <td>The show made the plot line to push once again...</td>\n",
              "      <td>6</td>\n",
              "      <td>20 May 2019</td>\n",
              "      <td>0</td>\n",
              "      <td>4</td>\n",
              "    </tr>\n",
              "    <tr>\n",
              "      <th>7108</th>\n",
              "      <td>7537</td>\n",
              "      <td>Surah Al-Ansheed, the Ansids, their kingdom di...</td>\n",
              "      <td>3</td>\n",
              "      <td>20 May 2019</td>\n",
              "      <td>0</td>\n",
              "      <td>6</td>\n",
              "    </tr>\n",
              "  </tbody>\n",
              "</table>\n",
              "<p>12569 rows × 6 columns</p>\n",
              "</div>"
            ],
            "text/plain": [
              "      Unnamed: 0  ... dislike\n",
              "0              0  ...     165\n",
              "1              1  ...     145\n",
              "2              2  ...     274\n",
              "3              3  ...     557\n",
              "4              4  ...    1171\n",
              "...          ...  ...     ...\n",
              "7104        7533  ...       6\n",
              "7105        7534  ...       4\n",
              "7106        7535  ...       2\n",
              "7107        7536  ...       4\n",
              "7108        7537  ...       6\n",
              "\n",
              "[12569 rows x 6 columns]"
            ]
          },
          "execution_count": 7,
          "metadata": {},
          "output_type": "execute_result"
        }
      ]
    },
    {
      "cell_type": "code",
      "metadata": {
        "id": "ef2e5d6b"
      },
      "source": [
        "#remove the duplicates\n",
        "df.drop_duplicates(inplace=True)"
      ],
      "id": "ef2e5d6b",
      "execution_count": null,
      "outputs": []
    },
    {
      "cell_type": "code",
      "metadata": {
        "colab": {
          "base_uri": "https://localhost:8080/",
          "height": 408
        },
        "id": "86dcef1d",
        "outputId": "9360e280-3d75-4d60-fcee-48587907ae93"
      },
      "source": [
        "df_positive = df[df.Rating >= 8].head(5000)\n",
        "df_positive"
      ],
      "id": "86dcef1d",
      "execution_count": null,
      "outputs": [
        {
          "data": {
            "text/html": [
              "<div>\n",
              "<style scoped>\n",
              "    .dataframe tbody tr th:only-of-type {\n",
              "        vertical-align: middle;\n",
              "    }\n",
              "\n",
              "    .dataframe tbody tr th {\n",
              "        vertical-align: top;\n",
              "    }\n",
              "\n",
              "    .dataframe thead th {\n",
              "        text-align: right;\n",
              "    }\n",
              "</style>\n",
              "<table border=\"1\" class=\"dataframe\">\n",
              "  <thead>\n",
              "    <tr style=\"text-align: right;\">\n",
              "      <th></th>\n",
              "      <th>Unnamed: 0</th>\n",
              "      <th>Review_text</th>\n",
              "      <th>Rating</th>\n",
              "      <th>date</th>\n",
              "      <th>like</th>\n",
              "      <th>dislike</th>\n",
              "    </tr>\n",
              "  </thead>\n",
              "  <tbody>\n",
              "    <tr>\n",
              "      <th>0</th>\n",
              "      <td>0</td>\n",
              "      <td>Best movie ever. Heath ledger's work is phenom...</td>\n",
              "      <td>10</td>\n",
              "      <td>12 January 2021</td>\n",
              "      <td>153</td>\n",
              "      <td>165</td>\n",
              "    </tr>\n",
              "    <tr>\n",
              "      <th>1</th>\n",
              "      <td>1</td>\n",
              "      <td>Totally one of the greatest movie titles ever ...</td>\n",
              "      <td>10</td>\n",
              "      <td>9 January 2021</td>\n",
              "      <td>132</td>\n",
              "      <td>145</td>\n",
              "    </tr>\n",
              "    <tr>\n",
              "      <th>2</th>\n",
              "      <td>2</td>\n",
              "      <td>It is just what you want for the best movie. G...</td>\n",
              "      <td>10</td>\n",
              "      <td>7 October 2019</td>\n",
              "      <td>235</td>\n",
              "      <td>274</td>\n",
              "    </tr>\n",
              "    <tr>\n",
              "      <th>3</th>\n",
              "      <td>3</td>\n",
              "      <td>Confidently directed, dark, brooding, and pack...</td>\n",
              "      <td>10</td>\n",
              "      <td>12 February 2020</td>\n",
              "      <td>465</td>\n",
              "      <td>557</td>\n",
              "    </tr>\n",
              "    <tr>\n",
              "      <th>4</th>\n",
              "      <td>4</td>\n",
              "      <td>I got to see The Dark Knight on Wednesday nigh...</td>\n",
              "      <td>10</td>\n",
              "      <td>20 July 2008</td>\n",
              "      <td>965</td>\n",
              "      <td>1171</td>\n",
              "    </tr>\n",
              "    <tr>\n",
              "      <th>...</th>\n",
              "      <td>...</td>\n",
              "      <td>...</td>\n",
              "      <td>...</td>\n",
              "      <td>...</td>\n",
              "      <td>...</td>\n",
              "      <td>...</td>\n",
              "    </tr>\n",
              "    <tr>\n",
              "      <th>4319</th>\n",
              "      <td>4546</td>\n",
              "      <td>People don't get it so they think it's bad. Up...</td>\n",
              "      <td>10</td>\n",
              "      <td>28 May 2019</td>\n",
              "      <td>22</td>\n",
              "      <td>77</td>\n",
              "    </tr>\n",
              "    <tr>\n",
              "      <th>4320</th>\n",
              "      <td>4547</td>\n",
              "      <td>People hate endings. Do I wish the last season...</td>\n",
              "      <td>10</td>\n",
              "      <td>20 May 2019</td>\n",
              "      <td>22</td>\n",
              "      <td>77</td>\n",
              "    </tr>\n",
              "    <tr>\n",
              "      <th>4321</th>\n",
              "      <td>4548</td>\n",
              "      <td>A perfect way to end this show. Don't want to ...</td>\n",
              "      <td>10</td>\n",
              "      <td>20 May 2019</td>\n",
              "      <td>61</td>\n",
              "      <td>248</td>\n",
              "    </tr>\n",
              "    <tr>\n",
              "      <th>4322</th>\n",
              "      <td>4549</td>\n",
              "      <td>I adored every single second of GOT and I will...</td>\n",
              "      <td>10</td>\n",
              "      <td>20 May 2019</td>\n",
              "      <td>12</td>\n",
              "      <td>37</td>\n",
              "    </tr>\n",
              "    <tr>\n",
              "      <th>4323</th>\n",
              "      <td>4550</td>\n",
              "      <td>I see all the haters made it here quickly. For...</td>\n",
              "      <td>10</td>\n",
              "      <td>20 May 2019</td>\n",
              "      <td>12</td>\n",
              "      <td>37</td>\n",
              "    </tr>\n",
              "  </tbody>\n",
              "</table>\n",
              "<p>5000 rows × 6 columns</p>\n",
              "</div>"
            ],
            "text/plain": [
              "      Unnamed: 0  ... dislike\n",
              "0              0  ...     165\n",
              "1              1  ...     145\n",
              "2              2  ...     274\n",
              "3              3  ...     557\n",
              "4              4  ...    1171\n",
              "...          ...  ...     ...\n",
              "4319        4546  ...      77\n",
              "4320        4547  ...      77\n",
              "4321        4548  ...     248\n",
              "4322        4549  ...      37\n",
              "4323        4550  ...      37\n",
              "\n",
              "[5000 rows x 6 columns]"
            ]
          },
          "execution_count": 9,
          "metadata": {},
          "output_type": "execute_result"
        }
      ]
    },
    {
      "cell_type": "code",
      "metadata": {
        "colab": {
          "base_uri": "https://localhost:8080/",
          "height": 408
        },
        "id": "0e10561b",
        "outputId": "8f52d3e2-d716-45a3-e4e3-707ac438c7cb"
      },
      "source": [
        "df_negative = df[df.Rating <=4].head(5000)\n",
        "df_negative"
      ],
      "id": "0e10561b",
      "execution_count": null,
      "outputs": [
        {
          "data": {
            "text/html": [
              "<div>\n",
              "<style scoped>\n",
              "    .dataframe tbody tr th:only-of-type {\n",
              "        vertical-align: middle;\n",
              "    }\n",
              "\n",
              "    .dataframe tbody tr th {\n",
              "        vertical-align: top;\n",
              "    }\n",
              "\n",
              "    .dataframe thead th {\n",
              "        text-align: right;\n",
              "    }\n",
              "</style>\n",
              "<table border=\"1\" class=\"dataframe\">\n",
              "  <thead>\n",
              "    <tr style=\"text-align: right;\">\n",
              "      <th></th>\n",
              "      <th>Unnamed: 0</th>\n",
              "      <th>Review_text</th>\n",
              "      <th>Rating</th>\n",
              "      <th>date</th>\n",
              "      <th>like</th>\n",
              "      <th>dislike</th>\n",
              "    </tr>\n",
              "  </thead>\n",
              "  <tbody>\n",
              "    <tr>\n",
              "      <th>384</th>\n",
              "      <td>424</td>\n",
              "      <td>I don't think that in my quarter century of li...</td>\n",
              "      <td>3</td>\n",
              "      <td>3 September 2008</td>\n",
              "      <td>150</td>\n",
              "      <td>367</td>\n",
              "    </tr>\n",
              "    <tr>\n",
              "      <th>399</th>\n",
              "      <td>445</td>\n",
              "      <td>The movie is pretty boring and bad, however th...</td>\n",
              "      <td>4</td>\n",
              "      <td>13 August 2020</td>\n",
              "      <td>7</td>\n",
              "      <td>11</td>\n",
              "    </tr>\n",
              "    <tr>\n",
              "      <th>401</th>\n",
              "      <td>448</td>\n",
              "      <td>Obviously Christopher Nolan was trying to touc...</td>\n",
              "      <td>4</td>\n",
              "      <td>1 August 2008</td>\n",
              "      <td>207</td>\n",
              "      <td>528</td>\n",
              "    </tr>\n",
              "    <tr>\n",
              "      <th>405</th>\n",
              "      <td>454</td>\n",
              "      <td>This movie is a non-plot action-packed propaga...</td>\n",
              "      <td>3</td>\n",
              "      <td>24 August 2008</td>\n",
              "      <td>83</td>\n",
              "      <td>200</td>\n",
              "    </tr>\n",
              "    <tr>\n",
              "      <th>411</th>\n",
              "      <td>464</td>\n",
              "      <td>I know I am going against the tide here. And I...</td>\n",
              "      <td>4</td>\n",
              "      <td>25 August 2008</td>\n",
              "      <td>77</td>\n",
              "      <td>185</td>\n",
              "    </tr>\n",
              "    <tr>\n",
              "      <th>...</th>\n",
              "      <td>...</td>\n",
              "      <td>...</td>\n",
              "      <td>...</td>\n",
              "      <td>...</td>\n",
              "      <td>...</td>\n",
              "      <td>...</td>\n",
              "    </tr>\n",
              "    <tr>\n",
              "      <th>5830</th>\n",
              "      <td>6176</td>\n",
              "      <td>The writers say they took the finale of Breaki...</td>\n",
              "      <td>1</td>\n",
              "      <td>20 May 2019</td>\n",
              "      <td>1</td>\n",
              "      <td>2</td>\n",
              "    </tr>\n",
              "    <tr>\n",
              "      <th>5831</th>\n",
              "      <td>6177</td>\n",
              "      <td>Is there a message in this rushed conclusion? ...</td>\n",
              "      <td>3</td>\n",
              "      <td>20 May 2019</td>\n",
              "      <td>1</td>\n",
              "      <td>2</td>\n",
              "    </tr>\n",
              "    <tr>\n",
              "      <th>5832</th>\n",
              "      <td>6178</td>\n",
              "      <td>I just cant believe that it was that bad... my...</td>\n",
              "      <td>1</td>\n",
              "      <td>20 May 2019</td>\n",
              "      <td>1</td>\n",
              "      <td>2</td>\n",
              "    </tr>\n",
              "    <tr>\n",
              "      <th>5833</th>\n",
              "      <td>6179</td>\n",
              "      <td>One disappointment after another. I'm not goin...</td>\n",
              "      <td>2</td>\n",
              "      <td>20 May 2019</td>\n",
              "      <td>1</td>\n",
              "      <td>2</td>\n",
              "    </tr>\n",
              "    <tr>\n",
              "      <th>5834</th>\n",
              "      <td>6180</td>\n",
              "      <td>If anything describes this season, it is the l...</td>\n",
              "      <td>4</td>\n",
              "      <td>20 May 2019</td>\n",
              "      <td>1</td>\n",
              "      <td>2</td>\n",
              "    </tr>\n",
              "  </tbody>\n",
              "</table>\n",
              "<p>5000 rows × 6 columns</p>\n",
              "</div>"
            ],
            "text/plain": [
              "      Unnamed: 0  ... dislike\n",
              "384          424  ...     367\n",
              "399          445  ...      11\n",
              "401          448  ...     528\n",
              "405          454  ...     200\n",
              "411          464  ...     185\n",
              "...          ...  ...     ...\n",
              "5830        6176  ...       2\n",
              "5831        6177  ...       2\n",
              "5832        6178  ...       2\n",
              "5833        6179  ...       2\n",
              "5834        6180  ...       2\n",
              "\n",
              "[5000 rows x 6 columns]"
            ]
          },
          "execution_count": 10,
          "metadata": {},
          "output_type": "execute_result"
        }
      ]
    },
    {
      "cell_type": "code",
      "metadata": {
        "id": "756ce822"
      },
      "source": [
        "dfs = [df_positive,df_negative]\n",
        "df_clean = pd.concat(dfs)"
      ],
      "id": "756ce822",
      "execution_count": null,
      "outputs": []
    },
    {
      "cell_type": "code",
      "metadata": {
        "colab": {
          "base_uri": "https://localhost:8080/",
          "height": 200
        },
        "id": "8cfa6c1e",
        "outputId": "b387e08f-0128-4e34-9435-8173703b2e95"
      },
      "source": [
        "df_clean.drop(columns=['Unnamed: 0','dislike']).head()"
      ],
      "id": "8cfa6c1e",
      "execution_count": null,
      "outputs": [
        {
          "data": {
            "text/html": [
              "<div>\n",
              "<style scoped>\n",
              "    .dataframe tbody tr th:only-of-type {\n",
              "        vertical-align: middle;\n",
              "    }\n",
              "\n",
              "    .dataframe tbody tr th {\n",
              "        vertical-align: top;\n",
              "    }\n",
              "\n",
              "    .dataframe thead th {\n",
              "        text-align: right;\n",
              "    }\n",
              "</style>\n",
              "<table border=\"1\" class=\"dataframe\">\n",
              "  <thead>\n",
              "    <tr style=\"text-align: right;\">\n",
              "      <th></th>\n",
              "      <th>Review_text</th>\n",
              "      <th>Rating</th>\n",
              "      <th>date</th>\n",
              "      <th>like</th>\n",
              "    </tr>\n",
              "  </thead>\n",
              "  <tbody>\n",
              "    <tr>\n",
              "      <th>0</th>\n",
              "      <td>Best movie ever. Heath ledger's work is phenom...</td>\n",
              "      <td>10</td>\n",
              "      <td>12 January 2021</td>\n",
              "      <td>153</td>\n",
              "    </tr>\n",
              "    <tr>\n",
              "      <th>1</th>\n",
              "      <td>Totally one of the greatest movie titles ever ...</td>\n",
              "      <td>10</td>\n",
              "      <td>9 January 2021</td>\n",
              "      <td>132</td>\n",
              "    </tr>\n",
              "    <tr>\n",
              "      <th>2</th>\n",
              "      <td>It is just what you want for the best movie. G...</td>\n",
              "      <td>10</td>\n",
              "      <td>7 October 2019</td>\n",
              "      <td>235</td>\n",
              "    </tr>\n",
              "    <tr>\n",
              "      <th>3</th>\n",
              "      <td>Confidently directed, dark, brooding, and pack...</td>\n",
              "      <td>10</td>\n",
              "      <td>12 February 2020</td>\n",
              "      <td>465</td>\n",
              "    </tr>\n",
              "    <tr>\n",
              "      <th>4</th>\n",
              "      <td>I got to see The Dark Knight on Wednesday nigh...</td>\n",
              "      <td>10</td>\n",
              "      <td>20 July 2008</td>\n",
              "      <td>965</td>\n",
              "    </tr>\n",
              "  </tbody>\n",
              "</table>\n",
              "</div>"
            ],
            "text/plain": [
              "                                         Review_text  ...  like\n",
              "0  Best movie ever. Heath ledger's work is phenom...  ...   153\n",
              "1  Totally one of the greatest movie titles ever ...  ...   132\n",
              "2  It is just what you want for the best movie. G...  ...   235\n",
              "3  Confidently directed, dark, brooding, and pack...  ...   465\n",
              "4  I got to see The Dark Knight on Wednesday nigh...  ...   965\n",
              "\n",
              "[5 rows x 4 columns]"
            ]
          },
          "execution_count": 12,
          "metadata": {},
          "output_type": "execute_result"
        }
      ]
    },
    {
      "cell_type": "code",
      "metadata": {
        "id": "4c5002dd"
      },
      "source": [
        "def label (row):\n",
        "   if row['Rating'] >= 8 :\n",
        "      return 'positive'\n",
        "   if row['Rating'] <= 4:\n",
        "      return 'negative'\n",
        " "
      ],
      "id": "4c5002dd",
      "execution_count": null,
      "outputs": []
    },
    {
      "cell_type": "code",
      "metadata": {
        "id": "9a42070e"
      },
      "source": [
        "df_clean['sentiment'] = df_clean.apply(lambda row: label(row), axis=1)\n"
      ],
      "id": "9a42070e",
      "execution_count": null,
      "outputs": []
    },
    {
      "cell_type": "code",
      "metadata": {
        "colab": {
          "base_uri": "https://localhost:8080/",
          "height": 408
        },
        "id": "774bf117",
        "outputId": "9dab434d-d12d-46ce-daa9-02a670663dc2"
      },
      "source": [
        "df_clean=df_clean.drop(columns=['Rating','date','like','dislike'])\n",
        "df_clean = df_clean.rename(columns={'Review_text': 'review', 'sentiment': 'sentiment'})\n",
        "df_clean"
      ],
      "id": "774bf117",
      "execution_count": null,
      "outputs": [
        {
          "data": {
            "text/html": [
              "<div>\n",
              "<style scoped>\n",
              "    .dataframe tbody tr th:only-of-type {\n",
              "        vertical-align: middle;\n",
              "    }\n",
              "\n",
              "    .dataframe tbody tr th {\n",
              "        vertical-align: top;\n",
              "    }\n",
              "\n",
              "    .dataframe thead th {\n",
              "        text-align: right;\n",
              "    }\n",
              "</style>\n",
              "<table border=\"1\" class=\"dataframe\">\n",
              "  <thead>\n",
              "    <tr style=\"text-align: right;\">\n",
              "      <th></th>\n",
              "      <th>Unnamed: 0</th>\n",
              "      <th>review</th>\n",
              "      <th>sentiment</th>\n",
              "    </tr>\n",
              "  </thead>\n",
              "  <tbody>\n",
              "    <tr>\n",
              "      <th>0</th>\n",
              "      <td>0</td>\n",
              "      <td>Best movie ever. Heath ledger's work is phenom...</td>\n",
              "      <td>positive</td>\n",
              "    </tr>\n",
              "    <tr>\n",
              "      <th>1</th>\n",
              "      <td>1</td>\n",
              "      <td>Totally one of the greatest movie titles ever ...</td>\n",
              "      <td>positive</td>\n",
              "    </tr>\n",
              "    <tr>\n",
              "      <th>2</th>\n",
              "      <td>2</td>\n",
              "      <td>It is just what you want for the best movie. G...</td>\n",
              "      <td>positive</td>\n",
              "    </tr>\n",
              "    <tr>\n",
              "      <th>3</th>\n",
              "      <td>3</td>\n",
              "      <td>Confidently directed, dark, brooding, and pack...</td>\n",
              "      <td>positive</td>\n",
              "    </tr>\n",
              "    <tr>\n",
              "      <th>4</th>\n",
              "      <td>4</td>\n",
              "      <td>I got to see The Dark Knight on Wednesday nigh...</td>\n",
              "      <td>positive</td>\n",
              "    </tr>\n",
              "    <tr>\n",
              "      <th>...</th>\n",
              "      <td>...</td>\n",
              "      <td>...</td>\n",
              "      <td>...</td>\n",
              "    </tr>\n",
              "    <tr>\n",
              "      <th>5830</th>\n",
              "      <td>6176</td>\n",
              "      <td>The writers say they took the finale of Breaki...</td>\n",
              "      <td>negative</td>\n",
              "    </tr>\n",
              "    <tr>\n",
              "      <th>5831</th>\n",
              "      <td>6177</td>\n",
              "      <td>Is there a message in this rushed conclusion? ...</td>\n",
              "      <td>negative</td>\n",
              "    </tr>\n",
              "    <tr>\n",
              "      <th>5832</th>\n",
              "      <td>6178</td>\n",
              "      <td>I just cant believe that it was that bad... my...</td>\n",
              "      <td>negative</td>\n",
              "    </tr>\n",
              "    <tr>\n",
              "      <th>5833</th>\n",
              "      <td>6179</td>\n",
              "      <td>One disappointment after another. I'm not goin...</td>\n",
              "      <td>negative</td>\n",
              "    </tr>\n",
              "    <tr>\n",
              "      <th>5834</th>\n",
              "      <td>6180</td>\n",
              "      <td>If anything describes this season, it is the l...</td>\n",
              "      <td>negative</td>\n",
              "    </tr>\n",
              "  </tbody>\n",
              "</table>\n",
              "<p>10000 rows × 3 columns</p>\n",
              "</div>"
            ],
            "text/plain": [
              "      Unnamed: 0                                             review sentiment\n",
              "0              0  Best movie ever. Heath ledger's work is phenom...  positive\n",
              "1              1  Totally one of the greatest movie titles ever ...  positive\n",
              "2              2  It is just what you want for the best movie. G...  positive\n",
              "3              3  Confidently directed, dark, brooding, and pack...  positive\n",
              "4              4  I got to see The Dark Knight on Wednesday nigh...  positive\n",
              "...          ...                                                ...       ...\n",
              "5830        6176  The writers say they took the finale of Breaki...  negative\n",
              "5831        6177  Is there a message in this rushed conclusion? ...  negative\n",
              "5832        6178  I just cant believe that it was that bad... my...  negative\n",
              "5833        6179  One disappointment after another. I'm not goin...  negative\n",
              "5834        6180  If anything describes this season, it is the l...  negative\n",
              "\n",
              "[10000 rows x 3 columns]"
            ]
          },
          "execution_count": 15,
          "metadata": {},
          "output_type": "execute_result"
        }
      ]
    },
    {
      "cell_type": "code",
      "metadata": {
        "id": "84959dc7"
      },
      "source": [
        "df_main = pd.read_csv('/content/drive/MyDrive/Colab Notebooks/pickles/IMDB Dataset.csv')"
      ],
      "id": "84959dc7",
      "execution_count": null,
      "outputs": []
    },
    {
      "cell_type": "code",
      "metadata": {
        "id": "458ffc0a"
      },
      "source": [
        "dfs = [df_main,df_clean]\n",
        "df = pd.concat(dfs)"
      ],
      "id": "458ffc0a",
      "execution_count": null,
      "outputs": []
    },
    {
      "cell_type": "code",
      "metadata": {
        "colab": {
          "base_uri": "https://localhost:8080/",
          "height": 408
        },
        "id": "03925c35",
        "outputId": "ce5fe7a0-1490-4b14-a5f5-11d72597935d"
      },
      "source": [
        "df = df.drop(columns=['Unnamed: 0'])\n",
        "df"
      ],
      "id": "03925c35",
      "execution_count": null,
      "outputs": [
        {
          "data": {
            "text/html": [
              "<div>\n",
              "<style scoped>\n",
              "    .dataframe tbody tr th:only-of-type {\n",
              "        vertical-align: middle;\n",
              "    }\n",
              "\n",
              "    .dataframe tbody tr th {\n",
              "        vertical-align: top;\n",
              "    }\n",
              "\n",
              "    .dataframe thead th {\n",
              "        text-align: right;\n",
              "    }\n",
              "</style>\n",
              "<table border=\"1\" class=\"dataframe\">\n",
              "  <thead>\n",
              "    <tr style=\"text-align: right;\">\n",
              "      <th></th>\n",
              "      <th>review</th>\n",
              "      <th>sentiment</th>\n",
              "    </tr>\n",
              "  </thead>\n",
              "  <tbody>\n",
              "    <tr>\n",
              "      <th>0</th>\n",
              "      <td>One of the other reviewers has mentioned that ...</td>\n",
              "      <td>positive</td>\n",
              "    </tr>\n",
              "    <tr>\n",
              "      <th>1</th>\n",
              "      <td>A wonderful little production. &lt;br /&gt;&lt;br /&gt;The...</td>\n",
              "      <td>positive</td>\n",
              "    </tr>\n",
              "    <tr>\n",
              "      <th>2</th>\n",
              "      <td>I thought this was a wonderful way to spend ti...</td>\n",
              "      <td>positive</td>\n",
              "    </tr>\n",
              "    <tr>\n",
              "      <th>3</th>\n",
              "      <td>Basically there's a family where a little boy ...</td>\n",
              "      <td>negative</td>\n",
              "    </tr>\n",
              "    <tr>\n",
              "      <th>4</th>\n",
              "      <td>Petter Mattei's \"Love in the Time of Money\" is...</td>\n",
              "      <td>positive</td>\n",
              "    </tr>\n",
              "    <tr>\n",
              "      <th>...</th>\n",
              "      <td>...</td>\n",
              "      <td>...</td>\n",
              "    </tr>\n",
              "    <tr>\n",
              "      <th>5830</th>\n",
              "      <td>The writers say they took the finale of Breaki...</td>\n",
              "      <td>negative</td>\n",
              "    </tr>\n",
              "    <tr>\n",
              "      <th>5831</th>\n",
              "      <td>Is there a message in this rushed conclusion? ...</td>\n",
              "      <td>negative</td>\n",
              "    </tr>\n",
              "    <tr>\n",
              "      <th>5832</th>\n",
              "      <td>I just cant believe that it was that bad... my...</td>\n",
              "      <td>negative</td>\n",
              "    </tr>\n",
              "    <tr>\n",
              "      <th>5833</th>\n",
              "      <td>One disappointment after another. I'm not goin...</td>\n",
              "      <td>negative</td>\n",
              "    </tr>\n",
              "    <tr>\n",
              "      <th>5834</th>\n",
              "      <td>If anything describes this season, it is the l...</td>\n",
              "      <td>negative</td>\n",
              "    </tr>\n",
              "  </tbody>\n",
              "</table>\n",
              "<p>60000 rows × 2 columns</p>\n",
              "</div>"
            ],
            "text/plain": [
              "                                                 review sentiment\n",
              "0     One of the other reviewers has mentioned that ...  positive\n",
              "1     A wonderful little production. <br /><br />The...  positive\n",
              "2     I thought this was a wonderful way to spend ti...  positive\n",
              "3     Basically there's a family where a little boy ...  negative\n",
              "4     Petter Mattei's \"Love in the Time of Money\" is...  positive\n",
              "...                                                 ...       ...\n",
              "5830  The writers say they took the finale of Breaki...  negative\n",
              "5831  Is there a message in this rushed conclusion? ...  negative\n",
              "5832  I just cant believe that it was that bad... my...  negative\n",
              "5833  One disappointment after another. I'm not goin...  negative\n",
              "5834  If anything describes this season, it is the l...  negative\n",
              "\n",
              "[60000 rows x 2 columns]"
            ]
          },
          "execution_count": 18,
          "metadata": {},
          "output_type": "execute_result"
        }
      ]
    },
    {
      "cell_type": "code",
      "metadata": {
        "colab": {
          "base_uri": "https://localhost:8080/",
          "height": 517
        },
        "id": "56d4c48c",
        "outputId": "df1ac74d-f06d-4991-b33d-9c72b09585c4"
      },
      "source": [
        "plt.figure(figsize=(10,8))\n",
        "sns.countplot(x=df['sentiment'],palette=['#2e2e2e',\"#838383\"])\n",
        "plt.title(\"The balance of target variable\",fontsize=20)\n",
        "from google.colab import files\n",
        "\n",
        "plt.savefig(\"abc.png\",transparent=True)\n",
        "files.download(\"abc.png\") "
      ],
      "id": "56d4c48c",
      "execution_count": null,
      "outputs": [
        {
          "data": {
            "application/javascript": [
              "\n",
              "    async function download(id, filename, size) {\n",
              "      if (!google.colab.kernel.accessAllowed) {\n",
              "        return;\n",
              "      }\n",
              "      const div = document.createElement('div');\n",
              "      const label = document.createElement('label');\n",
              "      label.textContent = `Downloading \"${filename}\": `;\n",
              "      div.appendChild(label);\n",
              "      const progress = document.createElement('progress');\n",
              "      progress.max = size;\n",
              "      div.appendChild(progress);\n",
              "      document.body.appendChild(div);\n",
              "\n",
              "      const buffers = [];\n",
              "      let downloaded = 0;\n",
              "\n",
              "      const channel = await google.colab.kernel.comms.open(id);\n",
              "      // Send a message to notify the kernel that we're ready.\n",
              "      channel.send({})\n",
              "\n",
              "      for await (const message of channel.messages) {\n",
              "        // Send a message to notify the kernel that we're ready.\n",
              "        channel.send({})\n",
              "        if (message.buffers) {\n",
              "          for (const buffer of message.buffers) {\n",
              "            buffers.push(buffer);\n",
              "            downloaded += buffer.byteLength;\n",
              "            progress.value = downloaded;\n",
              "          }\n",
              "        }\n",
              "      }\n",
              "      const blob = new Blob(buffers, {type: 'application/binary'});\n",
              "      const a = document.createElement('a');\n",
              "      a.href = window.URL.createObjectURL(blob);\n",
              "      a.download = filename;\n",
              "      div.appendChild(a);\n",
              "      a.click();\n",
              "      div.remove();\n",
              "    }\n",
              "  "
            ],
            "text/plain": [
              "<IPython.core.display.Javascript object>"
            ]
          },
          "metadata": {},
          "output_type": "display_data"
        },
        {
          "data": {
            "application/javascript": [
              "download(\"download_9a045bc6-43a0-42e2-95a9-c7f075a73db5\", \"abc.png\", 11882)"
            ],
            "text/plain": [
              "<IPython.core.display.Javascript object>"
            ]
          },
          "metadata": {},
          "output_type": "display_data"
        },
        {
          "data": {
            "image/png": "[encoded data removed]",
            "text/plain": [
              "<Figure size 720x576 with 1 Axes>"
            ]
          },
          "metadata": {},
          "output_type": "display_data"
        }
      ]
    },
    {
      "cell_type": "code",
      "metadata": {
        "colab": {
          "base_uri": "https://localhost:8080/"
        },
        "id": "noDSGNv5MInW",
        "outputId": "17a120fc-5039-443e-e7f8-c2482c45bb6b"
      },
      "source": [
        "import nltk\n",
        "nltk.download('stopwords')"
      ],
      "id": "noDSGNv5MInW",
      "execution_count": null,
      "outputs": [
        {
          "name": "stdout",
          "output_type": "stream",
          "text": [
            "[nltk_data] Downloading package stopwords to /root/nltk_data...\n",
            "[nltk_data]   Unzipping corpora/stopwords.zip.\n"
          ]
        },
        {
          "data": {
            "text/plain": [
              "True"
            ]
          },
          "execution_count": 20,
          "metadata": {},
          "output_type": "execute_result"
        }
      ]
    },
    {
      "cell_type": "code",
      "metadata": {
        "id": "2770f422"
      },
      "source": [
        "stop = set(stopwords.words('english'))\n",
        "punctuation = list(string.punctuation)\n",
        "stop.update(punctuation)\n"
      ],
      "id": "2770f422",
      "execution_count": null,
      "outputs": []
    },
    {
      "cell_type": "code",
      "metadata": {
        "id": "9453f527"
      },
      "source": [
        "def strip_html(text):\n",
        "    soup = BeautifulSoup(text, \"html.parser\")\n",
        "    return soup.get_text()\n",
        "\n",
        "#Removing the square brackets\n",
        "def remove_between_square_brackets(text):\n",
        "    return re.sub('\\[[^]]*\\]', '', text)\n",
        "\n",
        "# Removing URL's\n",
        "def remove_between_square_brackets(text):\n",
        "    return re.sub(r'http\\S+', '', text)\n",
        "\n",
        "#Removing the stopwords from text\n",
        "def remove_stopwords(text):\n",
        "    final_text = []\n",
        "    for i in text.split():\n",
        "        if i.strip().lower() not in stop and i.strip().lower().isalpha():\n",
        "            final_text.append(i.strip().lower())\n",
        "    return \" \".join(final_text)\n",
        "\n",
        "#Removing the noisy text\n",
        "def denoise_text(text):\n",
        "    text = strip_html(text)\n",
        "    text = remove_between_square_brackets(text)\n",
        "    text = remove_stopwords(text)\n",
        "    return text\n",
        "#Apply function on review column\n",
        "df['review']=df['review'].apply(denoise_text)"
      ],
      "id": "9453f527",
      "execution_count": null,
      "outputs": []
    },
    {
      "cell_type": "code",
      "metadata": {
        "colab": {
          "base_uri": "https://localhost:8080/",
          "height": 200
        },
        "id": "bd047618",
        "outputId": "c6c60d14-531f-4f1e-8b5d-bd8c7d5db0de"
      },
      "source": [
        "df.sentiment.replace(\"positive\" , 1 , inplace = True)\n",
        "df.sentiment.replace(\"negative\" , 0 , inplace = True)\n",
        "df.head()"
      ],
      "id": "bd047618",
      "execution_count": null,
      "outputs": [
        {
          "data": {
            "text/html": [
              "<div>\n",
              "<style scoped>\n",
              "    .dataframe tbody tr th:only-of-type {\n",
              "        vertical-align: middle;\n",
              "    }\n",
              "\n",
              "    .dataframe tbody tr th {\n",
              "        vertical-align: top;\n",
              "    }\n",
              "\n",
              "    .dataframe thead th {\n",
              "        text-align: right;\n",
              "    }\n",
              "</style>\n",
              "<table border=\"1\" class=\"dataframe\">\n",
              "  <thead>\n",
              "    <tr style=\"text-align: right;\">\n",
              "      <th></th>\n",
              "      <th>review</th>\n",
              "      <th>sentiment</th>\n",
              "    </tr>\n",
              "  </thead>\n",
              "  <tbody>\n",
              "    <tr>\n",
              "      <th>0</th>\n",
              "      <td>one reviewers mentioned watching oz episode ex...</td>\n",
              "      <td>1</td>\n",
              "    </tr>\n",
              "    <tr>\n",
              "      <th>1</th>\n",
              "      <td>wonderful little filming technique fashion giv...</td>\n",
              "      <td>1</td>\n",
              "    </tr>\n",
              "    <tr>\n",
              "      <th>2</th>\n",
              "      <td>thought wonderful way spend time hot summer si...</td>\n",
              "      <td>1</td>\n",
              "    </tr>\n",
              "    <tr>\n",
              "      <th>3</th>\n",
              "      <td>basically family little boy thinks zombie clos...</td>\n",
              "      <td>0</td>\n",
              "    </tr>\n",
              "    <tr>\n",
              "      <th>4</th>\n",
              "      <td>petter time visually stunning film mattei offe...</td>\n",
              "      <td>1</td>\n",
              "    </tr>\n",
              "  </tbody>\n",
              "</table>\n",
              "</div>"
            ],
            "text/plain": [
              "                                              review  sentiment\n",
              "0  one reviewers mentioned watching oz episode ex...          1\n",
              "1  wonderful little filming technique fashion giv...          1\n",
              "2  thought wonderful way spend time hot summer si...          1\n",
              "3  basically family little boy thinks zombie clos...          0\n",
              "4  petter time visually stunning film mattei offe...          1"
            ]
          },
          "execution_count": 23,
          "metadata": {},
          "output_type": "execute_result"
        }
      ]
    },
    {
      "cell_type": "code",
      "metadata": {
        "id": "f7b702d6"
      },
      "source": [
        "def clean_sentences(line):\n",
        "    \n",
        "    #special characters and emojis\n",
        "    line=re.sub('\\x91The','The',line)\n",
        "    line=re.sub('\\x97','',line)\n",
        "    line=re.sub('\\x84The','The',line)\n",
        "    line=re.sub('\\uf0b7','',line)\n",
        "    line=re.sub('¡¨','',line)\n",
        "    line=re.sub('\\x95','',line)\n",
        "    line=re.sub('\\x8ei\\x9eek','',line)\n",
        "    line=re.sub('\\xad','',line)\n",
        "    line=re.sub('\\x84bubble','bubble',line)\n",
        "        \n",
        "    \n",
        "    punctuations = '@#!~?+&*[]-%._-:/£();$=><|{}^' + '''\"“´”'`'''\n",
        "    for p in punctuations:\n",
        "        line = line.replace(p, f' {p} ')\n",
        "        \n",
        "    line=re.sub(',',' , ',line)\n",
        "        \n",
        "    # ... and ..\n",
        "    line = line.replace('...', ' ... ')\n",
        "    \n",
        "    if '...' not in line:\n",
        "        line = line.replace('..', ' ... ')\n",
        "        \n",
        "    return line\n",
        "    "
      ],
      "id": "f7b702d6",
      "execution_count": null,
      "outputs": []
    },
    {
      "cell_type": "code",
      "metadata": {
        "id": "e747d096"
      },
      "source": [
        "df['review'] = df.review.apply(lambda s: clean_sentences(s))\n",
        "\n"
      ],
      "id": "e747d096",
      "execution_count": null,
      "outputs": []
    },
    {
      "cell_type": "code",
      "metadata": {
        "colab": {
          "base_uri": "https://localhost:8080/"
        },
        "id": "VYo70i3Zrb-x",
        "outputId": "b6d756e5-c707-4c04-9950-be798b758cf8"
      },
      "source": [
        "!pip install contractions"
      ],
      "id": "VYo70i3Zrb-x",
      "execution_count": null,
      "outputs": [
        {
          "name": "stdout",
          "output_type": "stream",
          "text": [
            "Collecting contractions\n",
            "  Downloading contractions-0.0.52-py2.py3-none-any.whl (7.2 kB)\n",
            "Collecting textsearch>=0.0.21\n",
            "  Downloading textsearch-0.0.21-py2.py3-none-any.whl (7.5 kB)\n",
            "Collecting pyahocorasick\n",
            "  Downloading pyahocorasick-1.4.2.tar.gz (321 kB)\n",
            "\u001b[K     |████████████████████████████████| 321 kB 39.3 MB/s \n",
            "\u001b[?25hCollecting anyascii\n",
            "  Downloading anyascii-0.3.0-py3-none-any.whl (284 kB)\n",
            "\u001b[K     |████████████████████████████████| 284 kB 47.5 MB/s \n",
            "\u001b[?25hBuilding wheels for collected packages: pyahocorasick\n",
            "  Building wheel for pyahocorasick (setup.py) ... \u001b[?25l\u001b[?25hdone\n",
            "  Created wheel for pyahocorasick: filename=pyahocorasick-1.4.2-cp37-cp37m-linux_x86_64.whl size=85453 sha256=5f4b236a02fa8e9802eb71eb26c0c5ab9fe3a889d0a545806956c610665279f2\n",
            "  Stored in directory: /root/.cache/pip/wheels/25/19/a6/8f363d9939162782bb8439d886469756271abc01f76fbd790f\n",
            "Successfully built pyahocorasick\n",
            "Installing collected packages: pyahocorasick, anyascii, textsearch, contractions\n",
            "Successfully installed anyascii-0.3.0 contractions-0.0.52 pyahocorasick-1.4.2 textsearch-0.0.21\n"
          ]
        }
      ]
    },
    {
      "cell_type": "code",
      "metadata": {
        "colab": {
          "base_uri": "https://localhost:8080/"
        },
        "id": "b3ff50d7",
        "outputId": "941b1cfe-8c97-4562-d8a4-c66a65e2c420"
      },
      "source": [
        "import contractions\n",
        "\n",
        "contractions_dict = contractions.contractions_dict\n",
        "contractions_dict\n"
      ],
      "id": "b3ff50d7",
      "execution_count": null,
      "outputs": [
        {
          "data": {
            "text/plain": [
              "{\"'cause\": 'because',\n",
              " \"'tis\": 'it is',\n",
              " \"'twas\": 'it was',\n",
              " \"I'd\": 'I would',\n",
              " \"I'd've\": 'I would have',\n",
              " \"I'll\": 'I will',\n",
              " \"I'll've\": 'I will have',\n",
              " \"I'm\": 'I am',\n",
              " \"I'm'a\": 'I am about to',\n",
              " \"I'm'o\": 'I am going to',\n",
              " \"I've\": 'I have',\n",
              " 'I’d': 'I would',\n",
              " 'I’d’ve': 'I would have',\n",
              " 'I’ll': 'I will',\n",
              " 'I’ll’ve': 'I will have',\n",
              " 'I’m': 'I am',\n",
              " 'I’m’a': 'I am about to',\n",
              " 'I’m’o': 'I am going to',\n",
              " 'I’ve': 'I have',\n",
              " 'Whatcha': 'What are you',\n",
              " \"ain't\": 'are not',\n",
              " 'ain’t': 'are not',\n",
              " \"amn't\": 'am not',\n",
              " 'amn’t': 'am not',\n",
              " 'apr.': 'april',\n",
              " \"aren't\": 'are not',\n",
              " 'aren’t': 'are not',\n",
              " 'aug.': 'august',\n",
              " \"can't\": 'cannot',\n",
              " \"can't've\": 'cannot have',\n",
              " 'can’t': 'cannot',\n",
              " 'can’t’ve': 'cannot have',\n",
              " \"could've\": 'could have',\n",
              " \"couldn't\": 'could not',\n",
              " \"couldn't've\": 'could not have',\n",
              " 'couldn’t': 'could not',\n",
              " 'couldn’t’ve': 'could not have',\n",
              " 'could’ve': 'could have',\n",
              " \"daren't\": 'dare not',\n",
              " 'daren’t': 'dare not',\n",
              " \"daresn't\": 'dare not',\n",
              " 'daresn’t': 'dare not',\n",
              " \"dasn't\": 'dare not',\n",
              " 'dasn’t': 'dare not',\n",
              " 'dec.': 'december',\n",
              " \"didn't\": 'did not',\n",
              " 'didn’t': 'did not',\n",
              " \"doesn't\": 'does not',\n",
              " 'doesn’t': 'does not',\n",
              " \"don't\": 'do not',\n",
              " 'don’t': 'do not',\n",
              " \"e'er\": 'ever',\n",
              " 'em': 'them',\n",
              " \"everyone's\": 'everyone is',\n",
              " 'everyone’s': 'everyone is',\n",
              " 'e’er': 'ever',\n",
              " 'feb.': 'february',\n",
              " 'finna': 'fixing to',\n",
              " 'gimme': 'give me',\n",
              " \"gon't\": 'go not',\n",
              " 'gonna': 'going to',\n",
              " 'gon’t': 'go not',\n",
              " 'gotta': 'got to',\n",
              " \"hadn't\": 'had not',\n",
              " \"hadn't've\": 'had not have',\n",
              " 'hadn’t': 'had not',\n",
              " 'hadn’t’ve': 'had not have',\n",
              " \"hasn't\": 'has not',\n",
              " 'hasn’t': 'has not',\n",
              " \"haven't\": 'have not',\n",
              " 'haven’t': 'have not',\n",
              " \"he'd\": 'he would',\n",
              " \"he'd've\": 'he would have',\n",
              " \"he'll\": 'he will',\n",
              " \"he'll've\": 'he will have',\n",
              " \"he's\": 'he is',\n",
              " \"he've\": 'he have',\n",
              " \"here's\": 'here is',\n",
              " 'here’s': 'here is',\n",
              " 'he’d': 'he would',\n",
              " 'he’d’ve': 'he would have',\n",
              " 'he’ll': 'he will',\n",
              " 'he’ll’ve': 'he will have',\n",
              " 'he’s': 'he is',\n",
              " 'he’ve': 'he have',\n",
              " \"how'd\": 'how did',\n",
              " \"how'd'y\": 'how do you',\n",
              " \"how'll\": 'how will',\n",
              " \"how're\": 'how are',\n",
              " \"how's\": 'how is',\n",
              " 'how’d': 'how did',\n",
              " 'how’d’y': 'how do you',\n",
              " 'how’ll': 'how will',\n",
              " 'how’re': 'how are',\n",
              " 'how’s': 'how is',\n",
              " \"isn't\": 'is not',\n",
              " 'isn’t': 'is not',\n",
              " \"it'd\": 'it would',\n",
              " \"it'd've\": 'it would have',\n",
              " \"it'll\": 'it will',\n",
              " \"it'll've\": 'it will have',\n",
              " \"it's\": 'it is',\n",
              " 'it’d': 'it would',\n",
              " 'it’d’ve': 'it would have',\n",
              " 'it’ll': 'it will',\n",
              " 'it’ll’ve': 'it will have',\n",
              " 'it’s': 'it is',\n",
              " 'jan.': 'january',\n",
              " 'jul.': 'july',\n",
              " 'jun.': 'june',\n",
              " 'kinda': 'kind of',\n",
              " \"let's\": 'let us',\n",
              " 'let’s': 'let us',\n",
              " 'luv': 'love',\n",
              " \"ma'am\": 'madam',\n",
              " 'mar.': 'march',\n",
              " \"may've\": 'may have',\n",
              " \"mayn't\": 'may not',\n",
              " 'mayn’t': 'may not',\n",
              " 'may’ve': 'may have',\n",
              " 'ma’am': 'madam',\n",
              " \"might've\": 'might have',\n",
              " \"mightn't\": 'might not',\n",
              " \"mightn't've\": 'might not have',\n",
              " 'mightn’t': 'might not',\n",
              " 'mightn’t’ve': 'might not have',\n",
              " 'might’ve': 'might have',\n",
              " \"must've\": 'must have',\n",
              " \"mustn't\": 'must not',\n",
              " \"mustn't've\": 'must not have',\n",
              " 'mustn’t': 'must not',\n",
              " 'mustn’t’ve': 'must not have',\n",
              " 'must’ve': 'must have',\n",
              " \"ne'er\": 'never',\n",
              " \"needn't\": 'need not',\n",
              " \"needn't've\": 'need not have',\n",
              " 'needn’t': 'need not',\n",
              " 'needn’t’ve': 'need not have',\n",
              " 'ne’er': 'never',\n",
              " 'nov.': 'november',\n",
              " \"o'\": 'of',\n",
              " \"o'clock\": 'of the clock',\n",
              " \"o'er\": 'over',\n",
              " 'oct.': 'october',\n",
              " \"ol'\": 'old',\n",
              " 'ol’': 'old',\n",
              " \"oughtn't\": 'ought not',\n",
              " \"oughtn't've\": 'ought not have',\n",
              " 'oughtn’t': 'ought not',\n",
              " 'oughtn’t’ve': 'ought not have',\n",
              " 'o’': 'of',\n",
              " 'o’clock': 'of the clock',\n",
              " 'o’er': 'over',\n",
              " 'sep.': 'september',\n",
              " \"sha'n't\": 'shall not',\n",
              " \"shalln't\": 'shall not',\n",
              " 'shalln’t': 'shall not',\n",
              " \"shan't\": 'shall not',\n",
              " \"shan't've\": 'shall not have',\n",
              " 'shan’t': 'shall not',\n",
              " 'shan’t’ve': 'shall not have',\n",
              " 'sha’n’t': 'shall not',\n",
              " \"she'd\": 'she would',\n",
              " \"she'd've\": 'she would have',\n",
              " \"she'll\": 'she will',\n",
              " \"she's\": 'she is',\n",
              " 'she’d': 'she would',\n",
              " 'she’d’ve': 'she would have',\n",
              " 'she’ll': 'she will',\n",
              " 'she’s': 'she is',\n",
              " \"should've\": 'should have',\n",
              " \"shouldn't\": 'should not',\n",
              " \"shouldn't've\": 'should not have',\n",
              " 'shouldn’t': 'should not',\n",
              " 'shouldn’t’ve': 'should not have',\n",
              " 'should’ve': 'should have',\n",
              " \"so's\": 'so is',\n",
              " \"so've\": 'so have',\n",
              " \"somebody's\": 'somebody is',\n",
              " 'somebody’s': 'somebody is',\n",
              " \"someone's\": 'someone is',\n",
              " 'someone’s': 'someone is',\n",
              " \"something's\": 'something is',\n",
              " 'something’s': 'something is',\n",
              " 'so’s': 'so is',\n",
              " 'so’ve': 'so have',\n",
              " 'sux': 'sucks',\n",
              " \"that'd\": 'that would',\n",
              " \"that'd've\": 'that would have',\n",
              " \"that'll\": 'that will',\n",
              " \"that're\": 'that are',\n",
              " \"that's\": 'that is',\n",
              " 'that’d': 'that would',\n",
              " 'that’d’ve': 'that would have',\n",
              " 'that’ll': 'that will',\n",
              " 'that’re': 'that are',\n",
              " 'that’s': 'that is',\n",
              " \"there'd\": 'there would',\n",
              " \"there'd've\": 'there would have',\n",
              " \"there'll\": 'there will',\n",
              " \"there're\": 'there are',\n",
              " \"there's\": 'there is',\n",
              " 'there’d': 'there would',\n",
              " 'there’d’ve': 'there would have',\n",
              " 'there’ll': 'there will',\n",
              " 'there’re': 'there are',\n",
              " 'there’s': 'there is',\n",
              " \"these're\": 'these are',\n",
              " 'these’re': 'these are',\n",
              " \"they'd\": 'they would',\n",
              " \"they'd've\": 'they would have',\n",
              " \"they'll\": 'they will',\n",
              " \"they'll've\": 'they will have',\n",
              " \"they're\": 'they are',\n",
              " \"they've\": 'they have',\n",
              " 'they’d': 'they would',\n",
              " 'they’d’ve': 'they would have',\n",
              " 'they’ll': 'they will',\n",
              " 'they’ll’ve': 'they will have',\n",
              " 'they’re': 'they are',\n",
              " 'they’ve': 'they have',\n",
              " \"this's\": 'this is',\n",
              " 'this’s': 'this is',\n",
              " \"those're\": 'those are',\n",
              " 'those’re': 'those are',\n",
              " \"to've\": 'to have',\n",
              " 'to’ve': 'to have',\n",
              " 'wanna': 'want to',\n",
              " \"wasn't\": 'was not',\n",
              " 'wasn’t': 'was not',\n",
              " \"we'd\": 'we would',\n",
              " \"we'd've\": 'we would have',\n",
              " \"we'll\": 'we will',\n",
              " \"we'll've\": 'we will have',\n",
              " \"we're\": 'we are',\n",
              " \"we've\": 'we have',\n",
              " \"weren't\": 'were not',\n",
              " 'weren’t': 'were not',\n",
              " 'we’d': 'we would',\n",
              " 'we’d’ve': 'we would have',\n",
              " 'we’ll': 'we will',\n",
              " 'we’ll’ve': 'we will have',\n",
              " 'we’re': 'we are',\n",
              " 'we’ve': 'we have',\n",
              " \"what'd\": 'what did',\n",
              " \"what'll\": 'what will',\n",
              " \"what'll've\": 'what will have',\n",
              " \"what're\": 'what are',\n",
              " \"what's\": 'what is',\n",
              " \"what've\": 'what have',\n",
              " 'what’d': 'what did',\n",
              " 'what’ll': 'what will',\n",
              " 'what’ll’ve': 'what will have',\n",
              " 'what’re': 'what are',\n",
              " 'what’s': 'what is',\n",
              " 'what’ve': 'what have',\n",
              " \"when's\": 'when is',\n",
              " \"when've\": 'when have',\n",
              " 'when’s': 'when is',\n",
              " 'when’ve': 'when have',\n",
              " \"where'd\": 'where did',\n",
              " \"where're\": 'where are',\n",
              " \"where's\": 'where is',\n",
              " \"where've\": 'where have',\n",
              " 'where’d': 'where did',\n",
              " 'where’re': 'where are',\n",
              " 'where’s': 'where is',\n",
              " 'where’ve': 'where have',\n",
              " \"which's\": 'which is',\n",
              " 'which’s': 'which is',\n",
              " \"who'd\": 'who would',\n",
              " \"who'd've\": 'who would have',\n",
              " \"who'll\": 'who will',\n",
              " \"who'll've\": 'who will have',\n",
              " \"who're\": 'who are',\n",
              " \"who's\": 'who is',\n",
              " \"who've\": 'who have',\n",
              " 'who’d': 'who would',\n",
              " 'who’d’ve': 'who would have',\n",
              " 'who’ll': 'who will',\n",
              " 'who’ll’ve': 'who will have',\n",
              " 'who’re': 'who are',\n",
              " 'who’s': 'who is',\n",
              " 'who’ve': 'who have',\n",
              " \"why'd\": 'why did',\n",
              " \"why're\": 'why are',\n",
              " \"why's\": 'why is',\n",
              " \"why've\": 'why have',\n",
              " 'why’d': 'why did',\n",
              " 'why’re': 'why are',\n",
              " 'why’s': 'why is',\n",
              " 'why’ve': 'why have',\n",
              " \"will've\": 'will have',\n",
              " 'will’ve': 'will have',\n",
              " \"won't\": 'will not',\n",
              " \"won't've\": 'will not have',\n",
              " 'won’t': 'will not',\n",
              " 'won’t’ve': 'will not have',\n",
              " \"would've\": 'would have',\n",
              " \"wouldn't\": 'would not',\n",
              " \"wouldn't've\": 'would not have',\n",
              " 'wouldn’t': 'would not',\n",
              " 'wouldn’t’ve': 'would not have',\n",
              " 'would’ve': 'would have',\n",
              " \"y'all\": 'you all',\n",
              " \"y'all'd\": 'you all would',\n",
              " \"y'all'd've\": 'you all would have',\n",
              " \"y'all're\": 'you all are',\n",
              " \"y'all've\": 'you all have',\n",
              " \"you'd\": 'you would',\n",
              " \"you'd've\": 'you would have',\n",
              " \"you'll\": 'you will',\n",
              " \"you'll've\": 'you shall have',\n",
              " \"you're\": 'you are',\n",
              " \"you've\": 'you have',\n",
              " 'you’d': 'you would',\n",
              " 'you’d’ve': 'you would have',\n",
              " 'you’ll': 'you will',\n",
              " 'you’ll’ve': 'you shall have',\n",
              " 'you’re': 'you are',\n",
              " 'you’ve': 'you have',\n",
              " 'y’all': 'you all',\n",
              " 'y’all’d': 'you all would',\n",
              " 'y’all’d’ve': 'you all would have',\n",
              " 'y’all’re': 'you all are',\n",
              " 'y’all’ve': 'you all have',\n",
              " '’cause': 'because',\n",
              " '’tis': 'it is',\n",
              " '’twas': 'it was'}"
            ]
          },
          "execution_count": 27,
          "metadata": {},
          "output_type": "execute_result"
        }
      ]
    },
    {
      "cell_type": "code",
      "metadata": {
        "id": "e31ab318"
      },
      "source": [
        "def contraction_expansion(x):\n",
        "    \n",
        "    if type(x) is str:\n",
        "        \n",
        "        for key in contractions_dict:\n",
        "            \n",
        "            value = contractions_dict[key]\n",
        "            \n",
        "            x = x.replace(key, value)\n",
        "            \n",
        "        return x\n",
        "    \n",
        "    else:\n",
        "        \n",
        "        return x"
      ],
      "id": "e31ab318",
      "execution_count": null,
      "outputs": []
    },
    {
      "cell_type": "code",
      "metadata": {
        "id": "33511afd"
      },
      "source": [
        "df['review'] = df.review.apply(lambda s: contraction_expansion(s))\n",
        "\n"
      ],
      "id": "33511afd",
      "execution_count": null,
      "outputs": []
    },
    {
      "cell_type": "code",
      "metadata": {
        "colab": {
          "base_uri": "https://localhost:8080/",
          "height": 556
        },
        "id": "3022a5c8",
        "outputId": "cc21b00e-c7b2-4cef-cdb6-6ccb438a6895"
      },
      "source": [
        "fig,(ax1,ax2)=plt.subplots(1,2,figsize=(12,8))\n",
        "text_len=df[df['sentiment']==1]['review'].str.split().map(lambda x: len(x))\n",
        "ax1.hist(text_len,color='#f3ce13')\n",
        "ax1.set_title('Text with Positive Reviews')\n",
        "\n",
        "\n",
        "text_len=df[df['sentiment']==0]['review'].str.split().map(lambda x: len(x))\n",
        "ax2.hist(text_len,color='#565656')\n",
        "ax2.set_title('Text with Negative Reviews')\n",
        "fig.suptitle('Words in texts')\n",
        "from google.colab import files\n",
        "plt.show()\n",
        "plt.savefig('demo.png', transparent=True)\n",
        "files.download(\"demo.png\")"
      ],
      "id": "3022a5c8",
      "execution_count": null,
      "outputs": [
        {
          "data": {
            "image/png": "[encoded data removed]",
            "text/plain": [
              "<Figure size 864x576 with 2 Axes>"
            ]
          },
          "metadata": {},
          "output_type": "display_data"
        },
        {
          "data": {
            "application/javascript": [
              "\n",
              "    async function download(id, filename, size) {\n",
              "      if (!google.colab.kernel.accessAllowed) {\n",
              "        return;\n",
              "      }\n",
              "      const div = document.createElement('div');\n",
              "      const label = document.createElement('label');\n",
              "      label.textContent = `Downloading \"${filename}\": `;\n",
              "      div.appendChild(label);\n",
              "      const progress = document.createElement('progress');\n",
              "      progress.max = size;\n",
              "      div.appendChild(progress);\n",
              "      document.body.appendChild(div);\n",
              "\n",
              "      const buffers = [];\n",
              "      let downloaded = 0;\n",
              "\n",
              "      const channel = await google.colab.kernel.comms.open(id);\n",
              "      // Send a message to notify the kernel that we're ready.\n",
              "      channel.send({})\n",
              "\n",
              "      for await (const message of channel.messages) {\n",
              "        // Send a message to notify the kernel that we're ready.\n",
              "        channel.send({})\n",
              "        if (message.buffers) {\n",
              "          for (const buffer of message.buffers) {\n",
              "            buffers.push(buffer);\n",
              "            downloaded += buffer.byteLength;\n",
              "            progress.value = downloaded;\n",
              "          }\n",
              "        }\n",
              "      }\n",
              "      const blob = new Blob(buffers, {type: 'application/binary'});\n",
              "      const a = document.createElement('a');\n",
              "      a.href = window.URL.createObjectURL(blob);\n",
              "      a.download = filename;\n",
              "      div.appendChild(a);\n",
              "      a.click();\n",
              "      div.remove();\n",
              "    }\n",
              "  "
            ],
            "text/plain": [
              "<IPython.core.display.Javascript object>"
            ]
          },
          "metadata": {},
          "output_type": "display_data"
        },
        {
          "data": {
            "application/javascript": [
              "download(\"download_04b7b36e-efe5-44da-9851-f3cf06c40add\", \"demo.png\", 1272)"
            ],
            "text/plain": [
              "<IPython.core.display.Javascript object>"
            ]
          },
          "metadata": {},
          "output_type": "display_data"
        },
        {
          "data": {
            "text/plain": [
              "<Figure size 432x288 with 0 Axes>"
            ]
          },
          "metadata": {},
          "output_type": "display_data"
        }
      ]
    },
    {
      "cell_type": "code",
      "metadata": {
        "colab": {
          "base_uri": "https://localhost:8080/"
        },
        "id": "8be01dfd",
        "outputId": "ca536ee9-16f0-4799-a34b-7481b2938bd2"
      },
      "source": [
        "def get_corpus(text):\n",
        "    words = []\n",
        "    for i in text:\n",
        "        for j in i.split():\n",
        "            words.append(j.strip())\n",
        "    return words\n",
        "corpus = get_corpus(df.review)\n",
        "corpus[:5]"
      ],
      "id": "8be01dfd",
      "execution_count": null,
      "outputs": [
        {
          "data": {
            "text/plain": [
              "['one', 'reviewers', 'mentioned', 'watching', 'oz']"
            ]
          },
          "execution_count": 31,
          "metadata": {},
          "output_type": "execute_result"
        }
      ]
    },
    {
      "cell_type": "code",
      "metadata": {
        "colab": {
          "base_uri": "https://localhost:8080/"
        },
        "id": "359ce6cb",
        "outputId": "512e6fe8-8395-40a9-e5bb-b931097c9c2b"
      },
      "source": [
        "from collections import Counter\n",
        "counter = Counter(corpus)\n",
        "most_common = counter.most_common(10)\n",
        "most_common = dict(most_common)\n",
        "most_common"
      ],
      "id": "359ce6cb",
      "execution_count": null,
      "outputs": [
        {
          "data": {
            "text/plain": [
              "{'even': 26161,\n",
              " 'film': 58805,\n",
              " 'get': 19118,\n",
              " 'good': 26191,\n",
              " 'like': 41281,\n",
              " 'movie': 69564,\n",
              " 'one': 49781,\n",
              " 'really': 24109,\n",
              " 'see': 23102,\n",
              " 'would': 26320}"
            ]
          },
          "execution_count": 32,
          "metadata": {},
          "output_type": "execute_result"
        }
      ]
    },
    {
      "cell_type": "code",
      "metadata": {
        "colab": {
          "base_uri": "https://localhost:8080/",
          "height": 281
        },
        "id": "1fe6fbf4",
        "outputId": "dc1edfb9-1316-4c32-ef36-abd474a1706c"
      },
      "source": [
        "plt.bar(*zip(*most_common.items()))\n"
      ],
      "id": "1fe6fbf4",
      "execution_count": null,
      "outputs": [
        {
          "data": {
            "text/plain": [
              "<BarContainer object of 10 artists>"
            ]
          },
          "execution_count": 33,
          "metadata": {},
          "output_type": "execute_result"
        },
        {
          "data": {
            "image/png": "[encoded data removed]",
            "text/plain": [
              "<Figure size 432x288 with 1 Axes>"
            ]
          },
          "metadata": {},
          "output_type": "display_data"
        }
      ]
    },
    {
      "cell_type": "code",
      "metadata": {
        "colab": {
          "base_uri": "https://localhost:8080/",
          "height": 408
        },
        "id": "8f300379",
        "outputId": "a9a37764-6c82-460a-f387-393abd3dbc0f"
      },
      "source": [
        "df"
      ],
      "id": "8f300379",
      "execution_count": null,
      "outputs": [
        {
          "data": {
            "text/html": [
              "<div>\n",
              "<style scoped>\n",
              "    .dataframe tbody tr th:only-of-type {\n",
              "        vertical-align: middle;\n",
              "    }\n",
              "\n",
              "    .dataframe tbody tr th {\n",
              "        vertical-align: top;\n",
              "    }\n",
              "\n",
              "    .dataframe thead th {\n",
              "        text-align: right;\n",
              "    }\n",
              "</style>\n",
              "<table border=\"1\" class=\"dataframe\">\n",
              "  <thead>\n",
              "    <tr style=\"text-align: right;\">\n",
              "      <th></th>\n",
              "      <th>review</th>\n",
              "      <th>sentiment</th>\n",
              "    </tr>\n",
              "  </thead>\n",
              "  <tbody>\n",
              "    <tr>\n",
              "      <th>0</th>\n",
              "      <td>one reviewers mentioned watching oz episode ex...</td>\n",
              "      <td>1</td>\n",
              "    </tr>\n",
              "    <tr>\n",
              "      <th>1</th>\n",
              "      <td>wonderful little filming technique fashion giv...</td>\n",
              "      <td>1</td>\n",
              "    </tr>\n",
              "    <tr>\n",
              "      <th>2</th>\n",
              "      <td>thought wonderful way spend time hot summer si...</td>\n",
              "      <td>1</td>\n",
              "    </tr>\n",
              "    <tr>\n",
              "      <th>3</th>\n",
              "      <td>basically family little boy thinks zombie clos...</td>\n",
              "      <td>0</td>\n",
              "    </tr>\n",
              "    <tr>\n",
              "      <th>4</th>\n",
              "      <td>petter time visually stunning film mattei offe...</td>\n",
              "      <td>1</td>\n",
              "    </tr>\n",
              "    <tr>\n",
              "      <th>...</th>\n",
              "      <td>...</td>\n",
              "      <td>...</td>\n",
              "    </tr>\n",
              "    <tr>\n",
              "      <th>5830</th>\n",
              "      <td>writers say took finale breaking bad inspirati...</td>\n",
              "      <td>0</td>\n",
              "    </tr>\n",
              "    <tr>\n",
              "      <th>5831</th>\n",
              "      <td>message rushed point many arcs point gods lege...</td>\n",
              "      <td>0</td>\n",
              "    </tr>\n",
              "    <tr>\n",
              "      <th>5832</th>\n",
              "      <td>cant believe girlfriend told girlfriend</td>\n",
              "      <td>0</td>\n",
              "    </tr>\n",
              "    <tr>\n",
              "      <th>5833</th>\n",
              "      <td>one disappointment going waste time long hopef...</td>\n",
              "      <td>0</td>\n",
              "    </tr>\n",
              "    <tr>\n",
              "      <th>5834</th>\n",
              "      <td>anything describes lack made huge editing star...</td>\n",
              "      <td>0</td>\n",
              "    </tr>\n",
              "  </tbody>\n",
              "</table>\n",
              "<p>60000 rows × 2 columns</p>\n",
              "</div>"
            ],
            "text/plain": [
              "                                                 review  sentiment\n",
              "0     one reviewers mentioned watching oz episode ex...          1\n",
              "1     wonderful little filming technique fashion giv...          1\n",
              "2     thought wonderful way spend time hot summer si...          1\n",
              "3     basically family little boy thinks zombie clos...          0\n",
              "4     petter time visually stunning film mattei offe...          1\n",
              "...                                                 ...        ...\n",
              "5830  writers say took finale breaking bad inspirati...          0\n",
              "5831  message rushed point many arcs point gods lege...          0\n",
              "5832            cant believe girlfriend told girlfriend          0\n",
              "5833  one disappointment going waste time long hopef...          0\n",
              "5834  anything describes lack made huge editing star...          0\n",
              "\n",
              "[60000 rows x 2 columns]"
            ]
          },
          "execution_count": 34,
          "metadata": {},
          "output_type": "execute_result"
        }
      ]
    },
    {
      "cell_type": "markdown",
      "metadata": {
        "id": "FLokjTQIsML3"
      },
      "source": [
        "# Split data"
      ],
      "id": "FLokjTQIsML3"
    },
    {
      "cell_type": "code",
      "metadata": {
        "id": "SLoPA-wNscRT"
      },
      "source": [
        "\n",
        "X = df['review']\n",
        "y = df['sentiment']\n",
        "from sklearn.feature_extraction.text import TfidfVectorizer\n",
        "# tfidf=TfidfVectorizer(ngram_range=(1,1))\n",
        "\n",
        "X_train, X_test, y_train, y_test = train_test_split(X, y, test_size=0.2, random_state=1)\n",
        "\n",
        "X_train, X_val, y_train, y_val = train_test_split(X_train, y_train, test_size=0.25, random_state=1)\n",
        "\n",
        "tfidf=TfidfVectorizer(ngram_range=(1,1))\n",
        "X_train=tfidf.fit_transform(X_train)\n",
        "X_val=tfidf.transform(X_val)\n",
        "X_test=tfidf.transform(X_test)\n"
      ],
      "id": "SLoPA-wNscRT",
      "execution_count": null,
      "outputs": []
    },
    {
      "cell_type": "code",
      "metadata": {
        "colab": {
          "base_uri": "https://localhost:8080/"
        },
        "id": "u_AQVHQDsqQM",
        "outputId": "5471a9c4-5a3a-46b1-ebd5-31e7b9163c07"
      },
      "source": [
        "X_train.shape, X_test.shape,X_val.shape"
      ],
      "id": "u_AQVHQDsqQM",
      "execution_count": null,
      "outputs": [
        {
          "data": {
            "text/plain": [
              "((36000, 70070), (12000, 70070), (12000, 70070))"
            ]
          },
          "execution_count": 38,
          "metadata": {},
          "output_type": "execute_result"
        }
      ]
    },
    {
      "cell_type": "code",
      "metadata": {
        "colab": {
          "base_uri": "https://localhost:8080/"
        },
        "id": "81LVeURkVuIE",
        "outputId": "e705d6fb-62cf-4599-9c81-5385ad262227"
      },
      "source": [
        "type(X_train)"
      ],
      "id": "81LVeURkVuIE",
      "execution_count": null,
      "outputs": [
        {
          "data": {
            "text/plain": [
              "scipy.sparse.csr.csr_matrix"
            ]
          },
          "execution_count": 39,
          "metadata": {},
          "output_type": "execute_result"
        }
      ]
    },
    {
      "cell_type": "markdown",
      "metadata": {
        "id": "MstMbC6g4STD"
      },
      "source": [
        "# Logistic baseline"
      ],
      "id": "MstMbC6g4STD"
    },
    {
      "cell_type": "code",
      "metadata": {
        "colab": {
          "base_uri": "https://localhost:8080/"
        },
        "id": "ed3cb678",
        "outputId": "8dca1989-a006-42e1-8e69-405daf3c30f2"
      },
      "source": [
        "from sklearn.linear_model import LogisticRegression\n",
        "lr_model = LogisticRegression()\n",
        "lr_model.fit(X_train,y_train)\n",
        "y_pred  = lr_model.predict(X_test)\n",
        "\n",
        "accuracy_train_set = lr_model.score(X_train, y_train)  #get accuracy on train set\n",
        "accuracy_valid_set = lr_model.score(X_val, y_val)  #get accuracy on valid set\n",
        "accuracy_test_set = lr_model.score(X_test, y_test)  #get accuracy on test set\n",
        "\n",
        "\n",
        "print(\"Logistic Regression Model, Accuracy (Train Set) : \", accuracy_train_set)\n",
        "print(\"Logistic Regression Model, Accuracy (Val Set) : \", accuracy_valid_set)\n",
        "print(\"Logistic Regression Model, Accuracy (test Set) : \", accuracy_test_set)\n",
        "\n",
        "\n"
      ],
      "id": "ed3cb678",
      "execution_count": null,
      "outputs": [
        {
          "name": "stdout",
          "output_type": "stream",
          "text": [
            "Logistic Regression Model, Accuracy (Train Set) :  0.9229444444444445\n",
            "Logistic Regression Model, Accuracy (Val Set) :  0.8755\n",
            "Logistic Regression Model, Accuracy (test Set) :  0.8815833333333334\n"
          ]
        }
      ]
    },
    {
      "cell_type": "code",
      "metadata": {
        "colab": {
          "base_uri": "https://localhost:8080/"
        },
        "id": "p5C6EuknOWuz",
        "outputId": "c29d8bb0-0ed5-4956-a9a8-d6481208c5ad"
      },
      "source": [
        "from sklearn import metrics\n",
        "auc = metrics.roc_auc_score(y_test, y_pred)\n",
        "auc"
      ],
      "id": "p5C6EuknOWuz",
      "execution_count": null,
      "outputs": [
        {
          "data": {
            "text/plain": [
              "0.881586551582614"
            ]
          },
          "execution_count": 41,
          "metadata": {},
          "output_type": "execute_result"
        }
      ]
    },
    {
      "cell_type": "code",
      "metadata": {
        "colab": {
          "base_uri": "https://localhost:8080/"
        },
        "id": "14dda87a",
        "outputId": "4d427d23-a659-43c8-e5a3-b042bad6201c"
      },
      "source": [
        "from sklearn.metrics import classification_report, confusion_matrix\n",
        "\n",
        "print(classification_report(y_test, y_pred,target_names = ['Negatice Reviews','Positive Reviews']))\n"
      ],
      "id": "14dda87a",
      "execution_count": null,
      "outputs": [
        {
          "name": "stdout",
          "output_type": "stream",
          "text": [
            "                  precision    recall  f1-score   support\n",
            "\n",
            "Negatice Reviews       0.88      0.88      0.88      5985\n",
            "Positive Reviews       0.88      0.88      0.88      6015\n",
            "\n",
            "        accuracy                           0.88     12000\n",
            "       macro avg       0.88      0.88      0.88     12000\n",
            "    weighted avg       0.88      0.88      0.88     12000\n",
            "\n"
          ]
        }
      ]
    },
    {
      "cell_type": "code",
      "metadata": {
        "colab": {
          "base_uri": "https://localhost:8080/"
        },
        "id": "8336d057",
        "outputId": "e7c2e762-cc0a-4441-9a6b-565cd47eed7d"
      },
      "source": [
        "cm = confusion_matrix(y_test, y_pred)\n",
        "plt.figure(figsize = (10,10))\n",
        "sns.heatmap(cm,cmap= \"Blues\", linecolor = 'black' , linewidth = 1 , annot = True, fmt='' , xticklabels = ['Bad Reviews','Good Reviews'] , yticklabels = ['Bad Reviews','Good Reviews'])\n",
        "plt.xlabel(\"Predicted\")\n",
        "plt.ylabel(\"Actual\")"
      ],
      "id": "8336d057",
      "execution_count": null,
      "outputs": [
        {
          "data": {
            "text/plain": [
              "Text(69.0, 0.5, 'Actual')"
            ]
          },
          "execution_count": 43,
          "metadata": {},
          "output_type": "execute_result"
        },
        {
          "data": {
            "image/png": "[encoded data removed]",
            "text/plain": [
              "<Figure size 720x720 with 2 Axes>"
            ]
          },
          "metadata": {},
          "output_type": "display_data"
        }
      ]
    },
    {
      "cell_type": "code",
      "metadata": {
        "colab": {
          "base_uri": "https://localhost:8080/"
        },
        "id": "ka1PnIOvG7MV",
        "outputId": "732c656e-bfb4-45bf-adbd-b426467dbc80"
      },
      "source": [
        "from sklearn.metrics import confusion_matrix, ConfusionMatrixDisplay\n",
        "cf_matrix = confusion_matrix(y_pred,y_test, normalize='pred')\n",
        "# Generate confusion matrix plot\n",
        "display_labels = ['Negative', 'Postive']\n",
        "plt.figure(figsize = (10,10))\n",
        "disp = ConfusionMatrixDisplay(confusion_matrix=cf_matrix, display_labels=display_labels)\n",
        "disp = disp.plot(include_values=True, cmap='Blues', ax=None, xticks_rotation='horizontal')\n",
        "plt.grid(False)\n",
        "disp.ax_.set_xticklabels(display_labels, rotation=12)\n",
        "plt.title('Confusion Matrix of IMDB Reviews')\n",
        "plt.savefig(\"abc.png\",transparent=True)\n",
        "files.download(\"abc.png\") "
      ],
      "id": "ka1PnIOvG7MV",
      "execution_count": null,
      "outputs": [
        {
          "data": {
            "application/javascript": [
              "\n",
              "    async function download(id, filename, size) {\n",
              "      if (!google.colab.kernel.accessAllowed) {\n",
              "        return;\n",
              "      }\n",
              "      const div = document.createElement('div');\n",
              "      const label = document.createElement('label');\n",
              "      label.textContent = `Downloading \"${filename}\": `;\n",
              "      div.appendChild(label);\n",
              "      const progress = document.createElement('progress');\n",
              "      progress.max = size;\n",
              "      div.appendChild(progress);\n",
              "      document.body.appendChild(div);\n",
              "\n",
              "      const buffers = [];\n",
              "      let downloaded = 0;\n",
              "\n",
              "      const channel = await google.colab.kernel.comms.open(id);\n",
              "      // Send a message to notify the kernel that we're ready.\n",
              "      channel.send({})\n",
              "\n",
              "      for await (const message of channel.messages) {\n",
              "        // Send a message to notify the kernel that we're ready.\n",
              "        channel.send({})\n",
              "        if (message.buffers) {\n",
              "          for (const buffer of message.buffers) {\n",
              "            buffers.push(buffer);\n",
              "            downloaded += buffer.byteLength;\n",
              "            progress.value = downloaded;\n",
              "          }\n",
              "        }\n",
              "      }\n",
              "      const blob = new Blob(buffers, {type: 'application/binary'});\n",
              "      const a = document.createElement('a');\n",
              "      a.href = window.URL.createObjectURL(blob);\n",
              "      a.download = filename;\n",
              "      div.appendChild(a);\n",
              "      a.click();\n",
              "      div.remove();\n",
              "    }\n",
              "  "
            ],
            "text/plain": [
              "<IPython.core.display.Javascript object>"
            ]
          },
          "metadata": {},
          "output_type": "display_data"
        },
        {
          "data": {
            "application/javascript": [
              "download(\"download_476d4ad1-47ae-40f3-a980-8fddfd223843\", \"abc.png\", 12365)"
            ],
            "text/plain": [
              "<IPython.core.display.Javascript object>"
            ]
          },
          "metadata": {},
          "output_type": "display_data"
        },
        {
          "data": {
            "text/plain": [
              "<Figure size 720x720 with 0 Axes>"
            ]
          },
          "metadata": {},
          "output_type": "display_data"
        },
        {
          "data": {
            "image/png": "[encoded data removed]",
            "text/plain": [
              "<Figure size 432x288 with 2 Axes>"
            ]
          },
          "metadata": {},
          "output_type": "display_data"
        }
      ]
    },
    {
      "cell_type": "code",
      "metadata": {
        "colab": {
          "base_uri": "https://localhost:8080/"
        },
        "id": "sOeJLCwMIAWd",
        "outputId": "107b700d-a2ee-413e-cc9c-80460e3fa751"
      },
      "source": [
        "y_test.value_counts()"
      ],
      "id": "sOeJLCwMIAWd",
      "execution_count": null,
      "outputs": [
        {
          "data": {
            "text/plain": [
              "1    6015\n",
              "0    5985\n",
              "Name: sentiment, dtype: int64"
            ]
          },
          "execution_count": 45,
          "metadata": {},
          "output_type": "execute_result"
        }
      ]
    },
    {
      "cell_type": "code",
      "metadata": {
        "colab": {
          "base_uri": "https://localhost:8080/"
        },
        "id": "90843dca",
        "outputId": "b63224a8-b11a-458f-ea38-55b6ccf3a393"
      },
      "source": [
        "zz = lr_model.predict(tfidf.transform([\n",
        "    \"this is bad  \"\n",
        "]))\n",
        "\n",
        "zz"
      ],
      "id": "90843dca",
      "execution_count": null,
      "outputs": [
        {
          "data": {
            "text/plain": [
              "array([0])"
            ]
          },
          "execution_count": 46,
          "metadata": {},
          "output_type": "execute_result"
        }
      ]
    },
    {
      "cell_type": "code",
      "metadata": {
        "colab": {
          "base_uri": "https://localhost:8080/"
        },
        "id": "6f75c5d2",
        "outputId": "e6053322-5d13-4a8f-bf9e-9d379bbc5b7a"
      },
      "source": [
        "if zz[0]==0:\n",
        "  print('ddd')"
      ],
      "id": "6f75c5d2",
      "execution_count": null,
      "outputs": [
        {
          "name": "stdout",
          "output_type": "stream",
          "text": [
            "ddd\n"
          ]
        }
      ]
    },
    {
      "cell_type": "code",
      "metadata": {
        "id": "7fb2f8e8"
      },
      "source": [
        ""
      ],
      "id": "7fb2f8e8",
      "execution_count": null,
      "outputs": []
    },
    {
      "cell_type": "markdown",
      "metadata": {
        "id": "-Fo8J5ny4Vk1"
      },
      "source": [
        "# RandomForest\n"
      ],
      "id": "-Fo8J5ny4Vk1"
    },
    {
      "cell_type": "code",
      "metadata": {
        "colab": {
          "base_uri": "https://localhost:8080/"
        },
        "id": "vkGoQRCXwP85",
        "outputId": "bf59bdf1-1c41-466c-997f-e4c7b0cc32aa"
      },
      "source": [
        "from sklearn.ensemble import RandomForestClassifier\n",
        "rf_model=RandomForestClassifier()\n",
        "rf_model.fit(X_train,y_train)\n",
        "y_pred  = rf_model.predict(X_test)\n",
        "\n",
        "accuracy_train_set = rf_model.score(X_train, y_train)  #get accuracy on train set\n",
        "accuracy_valid_set = rf_model.score(X_val, y_val)  #get accuracy on valid set\n",
        "accuracy_test_set = rf_model.score(X_test, y_test)  #get accuracy on test set\n",
        "\n",
        "\n",
        "print(\"RandomForest Model, Accuracy (Train Set) : \", accuracy_train_set)\n",
        "print(\"RandomForest Model, Accuracy (Val Set) : \", accuracy_valid_set)\n",
        "print(\"RandomForest Model, Accuracy (test Set) : \", accuracy_test_set)\n",
        "\n"
      ],
      "id": "vkGoQRCXwP85",
      "execution_count": null,
      "outputs": [
        {
          "name": "stdout",
          "output_type": "stream",
          "text": [
            "RandomForest Model, Accuracy (Train Set) :  0.9999166666666667\n",
            "RandomForest Model, Accuracy (Val Set) :  0.84225\n",
            "RandomForest Model, Accuracy (test Set) :  0.8495\n"
          ]
        }
      ]
    },
    {
      "cell_type": "code",
      "metadata": {
        "colab": {
          "base_uri": "https://localhost:8080/"
        },
        "id": "i2TR_CtHyefX",
        "outputId": "6a1cf6d2-9fa6-4336-f29a-00af0609a56e"
      },
      "source": [
        "from sklearn.metrics import classification_report, confusion_matrix\n",
        "\n",
        "print(classification_report(y_test, y_pred,target_names = ['Negatice Reviews','Positive Reviews']))\n"
      ],
      "id": "i2TR_CtHyefX",
      "execution_count": null,
      "outputs": [
        {
          "name": "stdout",
          "output_type": "stream",
          "text": [
            "                  precision    recall  f1-score   support\n",
            "\n",
            "Negatice Reviews       0.85      0.85      0.85      5985\n",
            "Positive Reviews       0.85      0.84      0.85      6015\n",
            "\n",
            "        accuracy                           0.85     12000\n",
            "       macro avg       0.85      0.85      0.85     12000\n",
            "    weighted avg       0.85      0.85      0.85     12000\n",
            "\n"
          ]
        }
      ]
    },
    {
      "cell_type": "code",
      "metadata": {
        "colab": {
          "base_uri": "https://localhost:8080/"
        },
        "id": "mHh6lyPjzD60",
        "outputId": "121a10b8-f6de-4904-b0b4-f633f87588ae"
      },
      "source": [
        "cm = confusion_matrix(y_test, y_pred)\n",
        "plt.figure(figsize = (10,10))\n",
        "sns.heatmap(cm,cmap= \"Blues\", linecolor = 'black' , linewidth = 1 , annot = True, fmt='' , xticklabels = ['Bad Reviews','Good Reviews'] , yticklabels = ['Bad Reviews','Good Reviews'])\n",
        "plt.xlabel(\"Predicted\")\n",
        "plt.ylabel(\"Actual\")"
      ],
      "id": "mHh6lyPjzD60",
      "execution_count": null,
      "outputs": [
        {
          "data": {
            "text/plain": [
              "Text(69.0, 0.5, 'Actual')"
            ]
          },
          "execution_count": 50,
          "metadata": {},
          "output_type": "execute_result"
        },
        {
          "data": {
            "image/png": "[encoded data removed]",
            "text/plain": [
              "<Figure size 720x720 with 2 Axes>"
            ]
          },
          "metadata": {},
          "output_type": "display_data"
        }
      ]
    },
    {
      "cell_type": "markdown",
      "metadata": {
        "id": "AsNFF4h-4myR"
      },
      "source": [
        "# xGBOOST"
      ],
      "id": "AsNFF4h-4myR"
    },
    {
      "cell_type": "code",
      "metadata": {
        "colab": {
          "base_uri": "https://localhost:8080/"
        },
        "id": "L8MqQGh1zJ5X",
        "outputId": "7ee6af3e-b998-4ddc-9912-59d71e3175bf"
      },
      "source": [
        "from xgboost import XGBClassifier\n",
        "xg_model=XGBClassifier(verbosity=0)\n",
        "xg_model.fit(X_train,y_train)\n",
        "y_pred  = xg_model.predict(X_test)\n",
        "\n",
        "accuracy_train_set = xg_model.score(X_train, y_train)  #get accuracy on train set\n",
        "accuracy_valid_set = xg_model.score(X_val, y_val)  #get accuracy on valid set\n",
        "accuracy_test_set = xg_model.score(X_test, y_test)  #get accuracy on test set\n",
        "\n",
        "\n",
        "print(\"xgboost Model, Accuracy (Train Set) : \", accuracy_train_set)\n",
        "print(\"xgboost Model, Accuracy (Val Set) : \", accuracy_valid_set)\n",
        "print(\"xgboost Model, Accuracy (test Set) : \", accuracy_test_set)\n",
        "\n"
      ],
      "id": "L8MqQGh1zJ5X",
      "execution_count": null,
      "outputs": [
        {
          "name": "stdout",
          "output_type": "stream",
          "text": [
            "xgboost Model, Accuracy (Train Set) :  0.8002777777777778\n",
            "xgboost Model, Accuracy (Val Set) :  0.7819166666666667\n",
            "xgboost Model, Accuracy (test Set) :  0.7894166666666667\n"
          ]
        }
      ]
    },
    {
      "cell_type": "code",
      "metadata": {
        "colab": {
          "base_uri": "https://localhost:8080/"
        },
        "id": "-F3GC9AfOnk6",
        "outputId": "bce33857-f093-4231-a3a3-51ea94c49bfe"
      },
      "source": [
        "from sklearn.metrics import classification_report, confusion_matrix\n",
        "\n",
        "print(classification_report(y_test, y_pred,target_names = ['Negatice Reviews','Positive Reviews']))\n"
      ],
      "id": "-F3GC9AfOnk6",
      "execution_count": null,
      "outputs": [
        {
          "name": "stdout",
          "output_type": "stream",
          "text": [
            "                  precision    recall  f1-score   support\n",
            "\n",
            "Negatice Reviews       0.81      0.75      0.78      5985\n",
            "Positive Reviews       0.77      0.83      0.80      6015\n",
            "\n",
            "        accuracy                           0.79     12000\n",
            "       macro avg       0.79      0.79      0.79     12000\n",
            "    weighted avg       0.79      0.79      0.79     12000\n",
            "\n"
          ]
        }
      ]
    },
    {
      "cell_type": "code",
      "metadata": {
        "colab": {
          "base_uri": "https://localhost:8080/",
          "height": 622
        },
        "id": "2btXbvCdznNp",
        "outputId": "785ae5b7-216d-4ceb-fd6c-b07ed34f87ea"
      },
      "source": [
        "cm = confusion_matrix(y_test, y_pred)\n",
        "plt.figure(figsize = (10,10))\n",
        "sns.heatmap(cm,cmap= \"Blues\", linecolor = 'black' , linewidth = 1 , annot = True, fmt='' , xticklabels = ['Bad Reviews','Good Reviews'] , yticklabels = ['Bad Reviews','Good Reviews'])\n",
        "plt.xlabel(\"Predicted\")\n",
        "plt.ylabel(\"Actual\")"
      ],
      "id": "2btXbvCdznNp",
      "execution_count": null,
      "outputs": [
        {
          "data": {
            "text/plain": [
              "Text(69.0, 0.5, 'Actual')"
            ]
          },
          "execution_count": 56,
          "metadata": {},
          "output_type": "execute_result"
        },
        {
          "data": {
            "image/png": "[encoded data removed]",
            "text/plain": [
              "<Figure size 720x720 with 2 Axes>"
            ]
          },
          "metadata": {},
          "output_type": "display_data"
        }
      ]
    },
    {
      "cell_type": "markdown",
      "metadata": {
        "id": "Gmuy73Xt5HYb"
      },
      "source": [
        "# BaggingClassifier"
      ],
      "id": "Gmuy73Xt5HYb"
    },
    {
      "cell_type": "code",
      "metadata": {
        "colab": {
          "base_uri": "https://localhost:8080/"
        },
        "id": "TvIAGX_V5IJa",
        "outputId": "d8e55127-d1f8-48d6-c07c-d22bddc7ffe7"
      },
      "source": [
        "\n",
        "from sklearn.ensemble import BaggingClassifier\n",
        "from sklearn.svm import LinearSVC\n",
        "l2_norm = 8 #the square root of the sum of the squared vector values\n",
        "l2_norm_inverse = 1/l2_norm\n",
        "maximum_iterations=4000 #maximum number of iterations\n",
        " \n",
        "bc_model = BaggingClassifier(base_estimator=LinearSVC(C=l2_norm_inverse,max_iter=maximum_iterations),\n",
        "                            n_estimators=30, \n",
        "            random_state=0,  )\n",
        "\n",
        "bc_model.fit(X_train,  y_train)\n",
        "y_pred = bc_model.predict(X_test)\n",
        "accuracy_train_set = bc_model.score(X_train, y_train)  #get accuracy on train set\n",
        "accuracy_valid_set = bc_model.score(X_val, y_val)  #get accuracy on valid set\n",
        "accuracy_test_set = bc_model.score(X_test, y_test)  #get accuracy on test set\n",
        "\n",
        "print(\"Bagging Classifier, Accuracy (Train Set) : \", accuracy_train_set)\n",
        "print(\"Bagging Classifier, Accuracy (val Set) : \", accuracy_valid_set)\n",
        "print(\"Bagging Classifier, Accuracy (test Set) : \", accuracy_test_set)\n",
        "\n",
        "\n"
      ],
      "id": "TvIAGX_V5IJa",
      "execution_count": null,
      "outputs": [
        {
          "name": "stdout",
          "output_type": "stream",
          "text": [
            "Bagging Classifier, Accuracy (Train Set) :  0.9279444444444445\n",
            "Bagging Classifier, Accuracy (val Set) :  0.8768333333333334\n",
            "Bagging Classifier, Accuracy (test Set) :  0.8843333333333333\n"
          ]
        }
      ]
    },
    {
      "cell_type": "code",
      "metadata": {
        "colab": {
          "base_uri": "https://localhost:8080/"
        },
        "id": "0J6gwORF6VAb",
        "outputId": "7fec0f73-a933-4fc3-e2ae-3b4cc079d6e1"
      },
      "source": [
        "from sklearn.metrics import classification_report, confusion_matrix\n",
        "\n",
        "print(classification_report(y_test, y_pred,target_names = ['Negatice Reviews','Positive Reviews']))\n"
      ],
      "id": "0J6gwORF6VAb",
      "execution_count": null,
      "outputs": [
        {
          "name": "stdout",
          "output_type": "stream",
          "text": [
            "                  precision    recall  f1-score   support\n",
            "\n",
            "Negatice Reviews       0.88      0.89      0.88      5985\n",
            "Positive Reviews       0.89      0.88      0.88      6015\n",
            "\n",
            "        accuracy                           0.88     12000\n",
            "       macro avg       0.88      0.88      0.88     12000\n",
            "    weighted avg       0.88      0.88      0.88     12000\n",
            "\n"
          ]
        }
      ]
    },
    {
      "cell_type": "code",
      "metadata": {
        "colab": {
          "base_uri": "https://localhost:8080/",
          "height": 622
        },
        "id": "oMXG4fAu12dX",
        "outputId": "4b336ca9-c177-4c43-d4fb-d503a5d638e3"
      },
      "source": [
        "cm = confusion_matrix(y_test, y_pred)\n",
        "plt.figure(figsize = (10,10))\n",
        "sns.heatmap(cm,cmap= \"Blues\", linecolor = 'black' , linewidth = 1 , annot = True, fmt='' , xticklabels = ['Bad Reviews','Good Reviews'] , yticklabels = ['Bad Reviews','Good Reviews'])\n",
        "plt.xlabel(\"Predicted\")\n",
        "plt.ylabel(\"Actual\")"
      ],
      "id": "oMXG4fAu12dX",
      "execution_count": null,
      "outputs": [
        {
          "data": {
            "text/plain": [
              "Text(69.0, 0.5, 'Actual')"
            ]
          },
          "execution_count": 59,
          "metadata": {},
          "output_type": "execute_result"
        },
        {
          "data": {
            "image/png": "[encoded data removed]",
            "text/plain": [
              "<Figure size 720x720 with 2 Axes>"
            ]
          },
          "metadata": {},
          "output_type": "display_data"
        }
      ]
    },
    {
      "cell_type": "markdown",
      "metadata": {
        "id": "ukxLMeBnYe3k"
      },
      "source": [
        "# DecisionTreeClassifier"
      ],
      "id": "ukxLMeBnYe3k"
    },
    {
      "cell_type": "code",
      "metadata": {
        "colab": {
          "base_uri": "https://localhost:8080/"
        },
        "id": "hkglUiXAWUUt",
        "outputId": "2f7d2b2b-f991-4250-bded-2cb8a7d88f3b"
      },
      "source": [
        "\n",
        "from sklearn.tree import DecisionTreeClassifier\n",
        "dt_model = DecisionTreeClassifier(random_state=0)\n",
        "\n",
        "dt_model.fit(X_train,  y_train)\n",
        "y_pred = dt_model.predict(X_test)\n",
        "accuracy_train_set = dt_model.score(X_train, y_train)  #get accuracy on train set\n",
        "accuracy_valid_set = dt_model.score(X_val, y_val)  #get accuracy on valid set\n",
        "accuracy_test_set = dt_model.score(X_test, y_test)  #get accuracy on test set\n",
        "\n",
        "print(\"DecisionTreeClassifier, Accuracy (Train Set) : \", accuracy_train_set)\n",
        "print(\"DecisionTreeClassifier, Accuracy (val Set) : \", accuracy_valid_set)\n",
        "print(\"DecisionTreeClassifier, Accuracy (test Set) : \", accuracy_test_set)\n",
        "\n",
        "\n"
      ],
      "id": "hkglUiXAWUUt",
      "execution_count": null,
      "outputs": [
        {
          "name": "stdout",
          "output_type": "stream",
          "text": [
            "DecisionTreeClassifier, Accuracy (Train Set) :  0.9999444444444444\n",
            "DecisionTreeClassifier, Accuracy (val Set) :  0.7099166666666666\n",
            "DecisionTreeClassifier, Accuracy (test Set) :  0.7098333333333333\n"
          ]
        }
      ]
    },
    {
      "cell_type": "markdown",
      "metadata": {
        "id": "Dy2bwUkzkSc3"
      },
      "source": [
        "# NAIVE BASE"
      ],
      "id": "Dy2bwUkzkSc3"
    },
    {
      "cell_type": "code",
      "metadata": {
        "id": "lqY9QLtbjnDy"
      },
      "source": [
        "X = df['review']\n",
        "y = df['sentiment']"
      ],
      "id": "lqY9QLtbjnDy",
      "execution_count": null,
      "outputs": []
    },
    {
      "cell_type": "code",
      "metadata": {
        "id": "_txztYfejpxe"
      },
      "source": [
        "X = df['review']\n",
        "y = df['sentiment']\n",
        "X_train, X_test, y_train, y_test = train_test_split(X, y, test_size=0.2, random_state=1)\n",
        "\n",
        "X_train, X_val, y_train, y_val = train_test_split(X_train, y_train, test_size=0.25, random_state=1)"
      ],
      "id": "_txztYfejpxe",
      "execution_count": null,
      "outputs": []
    },
    {
      "cell_type": "code",
      "metadata": {
        "id": "tYPwefyuO-aM"
      },
      "source": [
        "from sklearn.feature_extraction.text import CountVectorizer\n",
        "\n",
        "# Convert a collection of text documents to a matrix of token counts\n",
        "count_vectorizer = CountVectorizer(ngram_range=(1, 2),  \n",
        "                              \n",
        "                                   max_df = 0.6)\n",
        "\n",
        "X_train = count_vectorizer.fit_transform(X_train)\n",
        "X_test = count_vectorizer.transform(X_test)\n",
        "X_val = count_vectorizer.transform(X_val)"
      ],
      "id": "tYPwefyuO-aM",
      "execution_count": null,
      "outputs": []
    },
    {
      "cell_type": "code",
      "metadata": {
        "colab": {
          "base_uri": "https://localhost:8080/"
        },
        "id": "Al3eaqQwjte3",
        "outputId": "9689f5e3-17ae-4e3d-984e-8e09bf3ddcb1"
      },
      "source": [
        "from sklearn.naive_bayes import BernoulliNB, MultinomialNB, GaussianNB\n",
        "nb_model = MultinomialNB(alpha = 0.7,)\n",
        "nb_model.fit(X_train, y_train)\n",
        "y_pred = nb_model.predict(X_test)\n",
        "accuracy_train_set = nb_model.score(X_train, y_train)  #get accuracy on train set\n",
        "accuracy_valid_set = nb_model.score(X_val, y_val)  #get accuracy on valid set\n",
        "accuracy_test_set = nb_model.score(X_test, y_test)  #get accuracy on test set\n",
        "\n",
        "print(\"MultinomialNB, Accuracy (Train Set) : \", accuracy_train_set)\n",
        "print(\"MultinomialNB, Accuracy (val Set) : \", accuracy_valid_set)\n",
        "print(\"MultinomialNB, Accuracy (test Set) : \", accuracy_test_set)\n",
        "\n",
        "\n",
        "\n"
      ],
      "id": "Al3eaqQwjte3",
      "execution_count": null,
      "outputs": [
        {
          "name": "stdout",
          "output_type": "stream",
          "text": [
            "MultinomialNB, Accuracy (Train Set) :  0.9962777777777778\n",
            "MultinomialNB, Accuracy (val Set) :  0.87275\n",
            "MultinomialNB, Accuracy (test Set) :  0.87475\n"
          ]
        }
      ]
    },
    {
      "cell_type": "code",
      "metadata": {
        "colab": {
          "base_uri": "https://localhost:8080/"
        },
        "id": "s1_NnX6m4crI",
        "outputId": "0115d071-643b-42dc-b84e-47fef2ac7b01"
      },
      "source": [
        "from sklearn.metrics import classification_report, confusion_matrix\n",
        "\n",
        "print(classification_report(y_test, y_pred,target_names = ['Negatice Reviews','Positive Reviews']))\n"
      ],
      "id": "s1_NnX6m4crI",
      "execution_count": null,
      "outputs": [
        {
          "name": "stdout",
          "output_type": "stream",
          "text": [
            "                  precision    recall  f1-score   support\n",
            "\n",
            "Negatice Reviews       0.87      0.88      0.88      5985\n",
            "Positive Reviews       0.88      0.87      0.87      6015\n",
            "\n",
            "        accuracy                           0.87     12000\n",
            "       macro avg       0.87      0.87      0.87     12000\n",
            "    weighted avg       0.87      0.87      0.87     12000\n",
            "\n"
          ]
        }
      ]
    },
    {
      "cell_type": "code",
      "metadata": {
        "id": "0eYmj-TK5O9f"
      },
      "source": [
        ""
      ],
      "id": "0eYmj-TK5O9f",
      "execution_count": null,
      "outputs": []
    },
    {
      "cell_type": "code",
      "metadata": {
        "colab": {
          "base_uri": "https://localhost:8080/"
        },
        "id": "g0JxtdId4pfB",
        "outputId": "35aeef24-e254-4d36-a542-566d3ca5fc5a"
      },
      "source": [
        "cm = confusion_matrix(y_test, y_pred)\n",
        "plt.figure(figsize = (10,10))\n",
        "sns.heatmap(cm,cmap= \"Blues\", linecolor = 'black' , linewidth = 1 , annot = True, fmt='' , xticklabels = ['Bad Reviews','Good Reviews'] , yticklabels = ['Bad Reviews','Good Reviews'])\n",
        "plt.xlabel(\"Predicted\")\n",
        "plt.ylabel(\"Actual\")"
      ],
      "id": "g0JxtdId4pfB",
      "execution_count": null,
      "outputs": [
        {
          "data": {
            "text/plain": [
              "Text(69.0, 0.5, 'Actual')"
            ]
          },
          "execution_count": 66,
          "metadata": {},
          "output_type": "execute_result"
        },
        {
          "data": {
            "image/png": "[encoded data removed]",
            "text/plain": [
              "<Figure size 720x720 with 2 Axes>"
            ]
          },
          "metadata": {},
          "output_type": "display_data"
        }
      ]
    },
    {
      "cell_type": "markdown",
      "metadata": {
        "id": "L2A5hrs94dLs"
      },
      "source": [
        "# Summary of models"
      ],
      "id": "L2A5hrs94dLs"
    },
    {
      "cell_type": "code",
      "metadata": {
        "id": "45Jrg5Ta4i_G"
      },
      "source": [
        "models_list = [lr_model,\n",
        "               rf_model,\n",
        "               xg_model,\n",
        "               bc_model,\n",
        "               dt_model,\n",
        "               nb_model\n",
        "               ]"
      ],
      "id": "45Jrg5Ta4i_G",
      "execution_count": null,
      "outputs": []
    },
    {
      "cell_type": "code",
      "metadata": {
        "id": "3tVbtxnHjoYu"
      },
      "source": [
        "\n",
        "X = df['review']\n",
        "y = df['sentiment']\n",
        "from sklearn.feature_extraction.text import TfidfVectorizer\n",
        "# tfidf=TfidfVectorizer(ngram_range=(1,1))\n",
        "\n",
        "X_train, X_test, y_train, y_test = train_test_split(X, y, test_size=0.2, random_state=1)\n",
        "\n",
        "X_train, X_val, y_train, y_val = train_test_split(X_train, y_train, test_size=0.25, random_state=1)\n",
        "\n",
        "tfidf=TfidfVectorizer(ngram_range=(1,1))\n",
        "X_train=tfidf.fit_transform(X_train)\n",
        "X_val=tfidf.transform(X_val)\n",
        "X_test=tfidf.transform(X_test)\n"
      ],
      "id": "3tVbtxnHjoYu",
      "execution_count": null,
      "outputs": []
    },
    {
      "cell_type": "code",
      "metadata": {
        "colab": {
          "base_uri": "https://localhost:8080/"
        },
        "id": "omBlGruP5FnL",
        "outputId": "6d7de304-3d61-4b96-c867-a56b2f291da7"
      },
      "source": [
        "models = []\n",
        "accuracies = []\n",
        "precisions = []\n",
        "recalls = []\n",
        "roc_scores = []\n",
        "f1_scores = []\n",
        "from sklearn.metrics import roc_auc_score\n",
        "from sklearn.metrics import accuracy_score, f1_score, precision_score, recall_score, classification_report, confusion_matrix\n",
        "for model in models_list:\n",
        "    \n",
        "    if(model == models_list[-1]):\n",
        "        count_vectorizer = CountVectorizer(ngram_range=(1, 2),  \n",
        "                                \n",
        "                                      max_df = 0.6)\n",
        "        X = df['review']\n",
        "        y = df['sentiment']\n",
        "        X_train, X_test, y_train, y_test = train_test_split(X, y, test_size=0.2, random_state=1)\n",
        "\n",
        "        X_train, X_val, y_train, y_val = train_test_split(X_train, y_train, test_size=0.25, random_state=1)\n",
        "        X_train = count_vectorizer.fit_transform(X_train)\n",
        "        X_test = count_vectorizer.transform(X_test)\n",
        "        X_val = count_vectorizer.transform(X_val)\n",
        "\n",
        "    accuracy = model.score(X_test, y_test)  #get accuracy\n",
        "    y_pred = model.predict(X_test) #get predictions\n",
        "    model_name = type(model).__name__\n",
        "    print(\"Accuracy(\"+ model_name + \"): \", accuracy.round(4)) #display accuracy\n",
        "    print(\"F1 score(\"+ model_name + \"): \", f1_score(y_test,y_pred).round(4)) #display F1\n",
        "    print(\"Precision(\"+ model_name + \"): \", precision_score(y_test,y_pred).round(4)) #display precision\n",
        "    print(\"Recall(\"+ model_name + \"): \",recall_score(y_test,y_pred).round(4)) #display recall\n",
        "    print(\"ROC Score(\"+ model_name + \"): \",roc_auc_score(y_test,y_pred).round(4)) #display recall\n",
        "    \n",
        "    print(\"\\n\")\n",
        "    models.append(model_name)\n",
        "    accuracies.append(accuracy.round(4))\n",
        "    f1_scores.append(f1_score(y_test,y_pred).round(4))\n",
        "    precisions.append(precision_score(y_test,y_pred).round(4))\n",
        "    recalls.append(recall_score(y_test,y_pred).round(4))\n",
        "    roc_scores.append(roc_auc_score(y_test,y_pred).round(4))\n"
      ],
      "id": "omBlGruP5FnL",
      "execution_count": null,
      "outputs": [
        {
          "name": "stdout",
          "output_type": "stream",
          "text": [
            "Accuracy(LogisticRegression):  0.8816\n",
            "F1 score(LogisticRegression):  0.8817\n",
            "Precision(LogisticRegression):  0.8831\n",
            "Recall(LogisticRegression):  0.8803\n",
            "ROC Score(LogisticRegression):  0.8816\n",
            "\n",
            "\n",
            "Accuracy(RandomForestClassifier):  0.8495\n",
            "F1 score(RandomForestClassifier):  0.8491\n",
            "Precision(RandomForestClassifier):  0.8536\n",
            "Recall(RandomForestClassifier):  0.8446\n",
            "ROC Score(RandomForestClassifier):  0.8495\n",
            "\n",
            "\n",
            "Accuracy(XGBClassifier):  0.7894\n",
            "F1 score(XGBClassifier):  0.7981\n",
            "Precision(XGBClassifier):  0.7684\n",
            "Recall(XGBClassifier):  0.8301\n",
            "ROC Score(XGBClassifier):  0.7893\n",
            "\n",
            "\n",
            "Accuracy(BaggingClassifier):  0.8843\n",
            "F1 score(BaggingClassifier):  0.8844\n",
            "Precision(BaggingClassifier):  0.8859\n",
            "Recall(BaggingClassifier):  0.883\n",
            "ROC Score(BaggingClassifier):  0.8843\n",
            "\n",
            "\n",
            "Accuracy(DecisionTreeClassifier):  0.7098\n",
            "F1 score(DecisionTreeClassifier):  0.7074\n",
            "Precision(DecisionTreeClassifier):  0.7151\n",
            "Recall(DecisionTreeClassifier):  0.6999\n",
            "ROC Score(DecisionTreeClassifier):  0.7099\n",
            "\n",
            "\n",
            "Accuracy(MultinomialNB):  0.8748\n",
            "F1 score(MultinomialNB):  0.8743\n",
            "Precision(MultinomialNB):  0.8795\n",
            "Recall(MultinomialNB):  0.8692\n",
            "ROC Score(MultinomialNB):  0.8748\n",
            "\n",
            "\n"
          ]
        }
      ]
    },
    {
      "cell_type": "code",
      "metadata": {
        "colab": {
          "base_uri": "https://localhost:8080/",
          "height": 230
        },
        "id": "C9WOAGKk5Wez",
        "outputId": "ede9ff39-3187-4307-85c7-a62a21d35d2e"
      },
      "source": [
        "results = pd.DataFrame({\"Model\" : models, \"Accuracy\" : accuracies,\"F1\" : f1_scores, \"Precision\" : precisions, \"Recall\" : recalls, 'ROC Score' :roc_scores})\n",
        "results"
      ],
      "id": "C9WOAGKk5Wez",
      "execution_count": null,
      "outputs": [
        {
          "data": {
            "text/html": [
              "<div>\n",
              "<style scoped>\n",
              "    .dataframe tbody tr th:only-of-type {\n",
              "        vertical-align: middle;\n",
              "    }\n",
              "\n",
              "    .dataframe tbody tr th {\n",
              "        vertical-align: top;\n",
              "    }\n",
              "\n",
              "    .dataframe thead th {\n",
              "        text-align: right;\n",
              "    }\n",
              "</style>\n",
              "<table border=\"1\" class=\"dataframe\">\n",
              "  <thead>\n",
              "    <tr style=\"text-align: right;\">\n",
              "      <th></th>\n",
              "      <th>Model</th>\n",
              "      <th>Accuracy</th>\n",
              "      <th>F1</th>\n",
              "      <th>Precision</th>\n",
              "      <th>Recall</th>\n",
              "      <th>ROC Score</th>\n",
              "    </tr>\n",
              "  </thead>\n",
              "  <tbody>\n",
              "    <tr>\n",
              "      <th>0</th>\n",
              "      <td>LogisticRegression</td>\n",
              "      <td>0.8816</td>\n",
              "      <td>0.8817</td>\n",
              "      <td>0.8831</td>\n",
              "      <td>0.8803</td>\n",
              "      <td>0.8816</td>\n",
              "    </tr>\n",
              "    <tr>\n",
              "      <th>1</th>\n",
              "      <td>RandomForestClassifier</td>\n",
              "      <td>0.8495</td>\n",
              "      <td>0.8491</td>\n",
              "      <td>0.8536</td>\n",
              "      <td>0.8446</td>\n",
              "      <td>0.8495</td>\n",
              "    </tr>\n",
              "    <tr>\n",
              "      <th>2</th>\n",
              "      <td>XGBClassifier</td>\n",
              "      <td>0.7894</td>\n",
              "      <td>0.7981</td>\n",
              "      <td>0.7684</td>\n",
              "      <td>0.8301</td>\n",
              "      <td>0.7893</td>\n",
              "    </tr>\n",
              "    <tr>\n",
              "      <th>3</th>\n",
              "      <td>BaggingClassifier</td>\n",
              "      <td>0.8843</td>\n",
              "      <td>0.8844</td>\n",
              "      <td>0.8859</td>\n",
              "      <td>0.8830</td>\n",
              "      <td>0.8843</td>\n",
              "    </tr>\n",
              "    <tr>\n",
              "      <th>4</th>\n",
              "      <td>DecisionTreeClassifier</td>\n",
              "      <td>0.7098</td>\n",
              "      <td>0.7074</td>\n",
              "      <td>0.7151</td>\n",
              "      <td>0.6999</td>\n",
              "      <td>0.7099</td>\n",
              "    </tr>\n",
              "    <tr>\n",
              "      <th>5</th>\n",
              "      <td>MultinomialNB</td>\n",
              "      <td>0.8748</td>\n",
              "      <td>0.8743</td>\n",
              "      <td>0.8795</td>\n",
              "      <td>0.8692</td>\n",
              "      <td>0.8748</td>\n",
              "    </tr>\n",
              "  </tbody>\n",
              "</table>\n",
              "</div>"
            ],
            "text/plain": [
              "                    Model  Accuracy      F1  Precision  Recall  ROC Score\n",
              "0      LogisticRegression    0.8816  0.8817     0.8831  0.8803     0.8816\n",
              "1  RandomForestClassifier    0.8495  0.8491     0.8536  0.8446     0.8495\n",
              "2           XGBClassifier    0.7894  0.7981     0.7684  0.8301     0.7893\n",
              "3       BaggingClassifier    0.8843  0.8844     0.8859  0.8830     0.8843\n",
              "4  DecisionTreeClassifier    0.7098  0.7074     0.7151  0.6999     0.7099\n",
              "5           MultinomialNB    0.8748  0.8743     0.8795  0.8692     0.8748"
            ]
          },
          "execution_count": 70,
          "metadata": {},
          "output_type": "execute_result"
        }
      ]
    },
    {
      "cell_type": "code",
      "metadata": {
        "colab": {
          "base_uri": "https://localhost:8080/",
          "height": 260
        },
        "id": "yTkmSCfn8KBn",
        "outputId": "5df95f23-7d8c-4a07-9d7f-71fb9bcb4b52"
      },
      "source": [
        "results.set_index('Model', inplace=True)\n",
        "results"
      ],
      "id": "yTkmSCfn8KBn",
      "execution_count": null,
      "outputs": [
        {
          "data": {
            "text/html": [
              "<div>\n",
              "<style scoped>\n",
              "    .dataframe tbody tr th:only-of-type {\n",
              "        vertical-align: middle;\n",
              "    }\n",
              "\n",
              "    .dataframe tbody tr th {\n",
              "        vertical-align: top;\n",
              "    }\n",
              "\n",
              "    .dataframe thead th {\n",
              "        text-align: right;\n",
              "    }\n",
              "</style>\n",
              "<table border=\"1\" class=\"dataframe\">\n",
              "  <thead>\n",
              "    <tr style=\"text-align: right;\">\n",
              "      <th></th>\n",
              "      <th>Accuracy</th>\n",
              "      <th>F1</th>\n",
              "      <th>Precision</th>\n",
              "      <th>Recall</th>\n",
              "      <th>ROC Score</th>\n",
              "    </tr>\n",
              "    <tr>\n",
              "      <th>Model</th>\n",
              "      <th></th>\n",
              "      <th></th>\n",
              "      <th></th>\n",
              "      <th></th>\n",
              "      <th></th>\n",
              "    </tr>\n",
              "  </thead>\n",
              "  <tbody>\n",
              "    <tr>\n",
              "      <th>LogisticRegression</th>\n",
              "      <td>0.8816</td>\n",
              "      <td>0.8817</td>\n",
              "      <td>0.8831</td>\n",
              "      <td>0.8803</td>\n",
              "      <td>0.8816</td>\n",
              "    </tr>\n",
              "    <tr>\n",
              "      <th>RandomForestClassifier</th>\n",
              "      <td>0.8495</td>\n",
              "      <td>0.8491</td>\n",
              "      <td>0.8536</td>\n",
              "      <td>0.8446</td>\n",
              "      <td>0.8495</td>\n",
              "    </tr>\n",
              "    <tr>\n",
              "      <th>XGBClassifier</th>\n",
              "      <td>0.7894</td>\n",
              "      <td>0.7981</td>\n",
              "      <td>0.7684</td>\n",
              "      <td>0.8301</td>\n",
              "      <td>0.7893</td>\n",
              "    </tr>\n",
              "    <tr>\n",
              "      <th>BaggingClassifier</th>\n",
              "      <td>0.8843</td>\n",
              "      <td>0.8844</td>\n",
              "      <td>0.8859</td>\n",
              "      <td>0.8830</td>\n",
              "      <td>0.8843</td>\n",
              "    </tr>\n",
              "    <tr>\n",
              "      <th>DecisionTreeClassifier</th>\n",
              "      <td>0.7098</td>\n",
              "      <td>0.7074</td>\n",
              "      <td>0.7151</td>\n",
              "      <td>0.6999</td>\n",
              "      <td>0.7099</td>\n",
              "    </tr>\n",
              "    <tr>\n",
              "      <th>MultinomialNB</th>\n",
              "      <td>0.8748</td>\n",
              "      <td>0.8743</td>\n",
              "      <td>0.8795</td>\n",
              "      <td>0.8692</td>\n",
              "      <td>0.8748</td>\n",
              "    </tr>\n",
              "  </tbody>\n",
              "</table>\n",
              "</div>"
            ],
            "text/plain": [
              "                        Accuracy      F1  Precision  Recall  ROC Score\n",
              "Model                                                                 \n",
              "LogisticRegression        0.8816  0.8817     0.8831  0.8803     0.8816\n",
              "RandomForestClassifier    0.8495  0.8491     0.8536  0.8446     0.8495\n",
              "XGBClassifier             0.7894  0.7981     0.7684  0.8301     0.7893\n",
              "BaggingClassifier         0.8843  0.8844     0.8859  0.8830     0.8843\n",
              "DecisionTreeClassifier    0.7098  0.7074     0.7151  0.6999     0.7099\n",
              "MultinomialNB             0.8748  0.8743     0.8795  0.8692     0.8748"
            ]
          },
          "execution_count": 71,
          "metadata": {},
          "output_type": "execute_result"
        }
      ]
    },
    {
      "cell_type": "code",
      "metadata": {
        "colab": {
          "base_uri": "https://localhost:8080/",
          "height": 728
        },
        "id": "oMHkBmOC8Zrj",
        "outputId": "a369ed4b-39f1-494d-effe-6c75821c1917"
      },
      "source": [
        "results.plot(kind = 'bar',figsize=(10,10))\n",
        "plt.title(\"Comparison of Scores of the Models\")\n",
        "plt.ylabel(\"Models\")\n",
        "plt.ylim(0.60, 1.0)\n",
        "plt.xlabel(\"ROC score\")\n",
        "plt.show();"
      ],
      "id": "oMHkBmOC8Zrj",
      "execution_count": null,
      "outputs": [
        {
          "data": {
            "image/png": "[encoded data removed]",
            "text/plain": [
              "<Figure size 720x720 with 1 Axes>"
            ]
          },
          "metadata": {},
          "output_type": "display_data"
        }
      ]
    },
    {
      "cell_type": "code",
      "metadata": {
        "colab": {
          "base_uri": "https://localhost:8080/",
          "height": 621
        },
        "id": "6J7UQoov8iK3",
        "outputId": "d90a4d54-970f-4a81-caf4-6a98a941d1a5"
      },
      "source": [
        "plt.figure(figsize = (10,10))\n",
        "x = results\n",
        "x=x.sort_values(by=['F1'])\n",
        "\n",
        "x[\"F1\"].plot(kind = 'barh')\n",
        "plt.title(\"Compare f1 Score of the Models\")\n",
        "plt.ylabel(\"Models\")\n",
        "plt.xlim(0.50, 1.0)\n",
        "plt.xlabel(\"F1 Score\")\n",
        "plt.savefig(\"abc.png\",transparent=True)\n",
        "\n",
        "files.download(\"abc.png\") "
      ],
      "id": "6J7UQoov8iK3",
      "execution_count": null,
      "outputs": [
        {
          "data": {
            "application/javascript": [
              "\n",
              "    async function download(id, filename, size) {\n",
              "      if (!google.colab.kernel.accessAllowed) {\n",
              "        return;\n",
              "      }\n",
              "      const div = document.createElement('div');\n",
              "      const label = document.createElement('label');\n",
              "      label.textContent = `Downloading \"${filename}\": `;\n",
              "      div.appendChild(label);\n",
              "      const progress = document.createElement('progress');\n",
              "      progress.max = size;\n",
              "      div.appendChild(progress);\n",
              "      document.body.appendChild(div);\n",
              "\n",
              "      const buffers = [];\n",
              "      let downloaded = 0;\n",
              "\n",
              "      const channel = await google.colab.kernel.comms.open(id);\n",
              "      // Send a message to notify the kernel that we're ready.\n",
              "      channel.send({})\n",
              "\n",
              "      for await (const message of channel.messages) {\n",
              "        // Send a message to notify the kernel that we're ready.\n",
              "        channel.send({})\n",
              "        if (message.buffers) {\n",
              "          for (const buffer of message.buffers) {\n",
              "            buffers.push(buffer);\n",
              "            downloaded += buffer.byteLength;\n",
              "            progress.value = downloaded;\n",
              "          }\n",
              "        }\n",
              "      }\n",
              "      const blob = new Blob(buffers, {type: 'application/binary'});\n",
              "      const a = document.createElement('a');\n",
              "      a.href = window.URL.createObjectURL(blob);\n",
              "      a.download = filename;\n",
              "      div.appendChild(a);\n",
              "      a.click();\n",
              "      div.remove();\n",
              "    }\n",
              "  "
            ],
            "text/plain": [
              "<IPython.core.display.Javascript object>"
            ]
          },
          "metadata": {},
          "output_type": "display_data"
        },
        {
          "data": {
            "application/javascript": [
              "download(\"download_0b47e875-e208-46df-b388-ea24f4313e8d\", \"abc.png\", 13554)"
            ],
            "text/plain": [
              "<IPython.core.display.Javascript object>"
            ]
          },
          "metadata": {},
          "output_type": "display_data"
        },
        {
          "data": {
            "image/png": "[encoded data removed]",
            "text/plain": [
              "<Figure size 720x720 with 1 Axes>"
            ]
          },
          "metadata": {},
          "output_type": "display_data"
        }
      ]
    },
    {
      "cell_type": "markdown",
      "metadata": {
        "id": "Y1SwsIPYkVVp"
      },
      "source": [
        "# FLASK APP"
      ],
      "id": "Y1SwsIPYkVVp"
    },
    {
      "cell_type": "code",
      "metadata": {
        "colab": {
          "base_uri": "https://localhost:8080/"
        },
        "id": "2xY7QQgylB31",
        "outputId": "ac3883d2-ea64-44af-812f-13b0639c7b16"
      },
      "source": [
        "!pip install flask-ngrok\n"
      ],
      "id": "2xY7QQgylB31",
      "execution_count": null,
      "outputs": [
        {
          "name": "stdout",
          "output_type": "stream",
          "text": [
            "Collecting flask-ngrok\n",
            "  Downloading flask_ngrok-0.0.25-py3-none-any.whl (3.1 kB)\n",
            "Requirement already satisfied: Flask>=0.8 in /usr/local/lib/python3.7/dist-packages (from flask-ngrok) (1.1.4)\n",
            "Requirement already satisfied: requests in /usr/local/lib/python3.7/dist-packages (from flask-ngrok) (2.23.0)\n",
            "Requirement already satisfied: itsdangerous<2.0,>=0.24 in /usr/local/lib/python3.7/dist-packages (from Flask>=0.8->flask-ngrok) (1.1.0)\n",
            "Requirement already satisfied: Jinja2<3.0,>=2.10.1 in /usr/local/lib/python3.7/dist-packages (from Flask>=0.8->flask-ngrok) (2.11.3)\n",
            "Requirement already satisfied: Werkzeug<2.0,>=0.15 in /usr/local/lib/python3.7/dist-packages (from Flask>=0.8->flask-ngrok) (1.0.1)\n",
            "Requirement already satisfied: click<8.0,>=5.1 in /usr/local/lib/python3.7/dist-packages (from Flask>=0.8->flask-ngrok) (7.1.2)\n",
            "Requirement already satisfied: MarkupSafe>=0.23 in /usr/local/lib/python3.7/dist-packages (from Jinja2<3.0,>=2.10.1->Flask>=0.8->flask-ngrok) (2.0.1)\n",
            "Requirement already satisfied: chardet<4,>=3.0.2 in /usr/local/lib/python3.7/dist-packages (from requests->flask-ngrok) (3.0.4)\n",
            "Requirement already satisfied: idna<3,>=2.5 in /usr/local/lib/python3.7/dist-packages (from requests->flask-ngrok) (2.10)\n",
            "Requirement already satisfied: urllib3!=1.25.0,!=1.25.1,<1.26,>=1.21.1 in /usr/local/lib/python3.7/dist-packages (from requests->flask-ngrok) (1.24.3)\n",
            "Requirement already satisfied: certifi>=2017.4.17 in /usr/local/lib/python3.7/dist-packages (from requests->flask-ngrok) (2021.5.30)\n",
            "Installing collected packages: flask-ngrok\n",
            "Successfully installed flask-ngrok-0.0.25\n"
          ]
        }
      ]
    },
    {
      "cell_type": "code",
      "metadata": {
        "colab": {
          "background_save": true,
          "base_uri": "https://localhost:8080/"
        },
        "id": "NV3m5EbYkXIr",
        "outputId": "2b110677-4f20-4bd5-b59c-96e4d67b5400"
      },
      "source": [
        "import pandas as pd\n",
        "\n",
        "import os\n",
        "\n",
        "\n",
        "template_dir = os.path.abspath('/content/drive/MyDrive/Colab Notebooks/pickles/templates')\n",
        "static_folder = os.path.abspath('/content/drive/MyDrive/Colab Notebooks/pickles/static')\n",
        "\n",
        "from flask import Flask,request,render_template\n",
        "from flask_ngrok import run_with_ngrok\n",
        "\n",
        "\n",
        "app = Flask(__name__,template_folder=template_dir,static_folder =static_folder )\n",
        "run_with_ngrok(app)   \n",
        "@app.route('/',methods =['GET','POST'])\n",
        "@app.route(\"/\")\n",
        "  \n",
        "def home():\n",
        "  if request.method == 'POST':\n",
        "      usr_input = str(request.form.get('usr'))\n",
        "      usr_input = denoise_text(usr_input)\n",
        "      usr_input = clean_sentences(usr_input)\n",
        "      usr_input = contraction_expansion(usr_input)\n",
        "      print(usr_input)\n",
        "\n",
        "\n",
        "\n",
        "      prd = bc_model.predict(tfidf.transform([usr_input]))\n",
        "\n",
        "      if(prd[0] == 1 ):\n",
        "        x = \"Positive\"\n",
        "      else:\n",
        "        x = \"Negative\"\n",
        "      return render_template('styled_UI.html',val=x)\n",
        "\n",
        "  return render_template('styled_UI.html')\n",
        "    \n",
        "app.run()"
      ],
      "id": "NV3m5EbYkXIr",
      "execution_count": null,
      "outputs": [
        {
          "name": "stdout",
          "output_type": "stream",
          "text": [
            " * Serving Flask app \"__main__\" (lazy loading)\n",
            " * Environment: production\n",
            "\u001b[31m   WARNING: This is a development server. Do not use it in a production deployment.\u001b[0m\n",
            "\u001b[2m   Use a production WSGI server instead.\u001b[0m\n",
            " * Debug mode: off\n"
          ]
        },
        {
          "name": "stderr",
          "output_type": "stream",
          "text": [
            " * Running on http://127.0.0.1:5000/ (Press CTRL+C to quit)\n"
          ]
        },
        {
          "name": "stdout",
          "output_type": "stream",
          "text": [
            " * Running on http://989c-35-199-60-63.ngrok.io\n",
            " * Traffic stats available on http://127.0.0.1:4040\n"
          ]
        },
        {
          "name": "stderr",
          "output_type": "stream",
          "text": [
            "127.0.0.1 - - [10/Oct/2021 12:14:13] \"\u001b[37mGET / HTTP/1.1\u001b[0m\" 200 -\n",
            "127.0.0.1 - - [10/Oct/2021 12:14:14] \"\u001b[37mGET /static/styles.css HTTP/1.1\u001b[0m\" 200 -\n",
            "127.0.0.1 - - [10/Oct/2021 12:14:14] \"\u001b[37mGET /static/featured_imdb_tv-1.jpeg HTTP/1.1\u001b[0m\" 200 -\n",
            "127.0.0.1 - - [10/Oct/2021 12:14:14] \"\u001b[33mGET /favicon.ico HTTP/1.1\u001b[0m\" 404 -\n",
            "127.0.0.1 - - [10/Oct/2021 12:14:31] \"\u001b[37mPOST / HTTP/1.1\u001b[0m\" 200 -\n"
          ]
        },
        {
          "name": "stdout",
          "output_type": "stream",
          "text": [
            "great movie\n"
          ]
        },
        {
          "name": "stderr",
          "output_type": "stream",
          "text": [
            "127.0.0.1 - - [10/Oct/2021 12:22:39] \"\u001b[37mPOST / HTTP/1.1\u001b[0m\" 200 -\n"
          ]
        },
        {
          "name": "stdout",
          "output_type": "stream",
          "text": [
            "great movie\n"
          ]
        }
      ]
    }
  ]
}